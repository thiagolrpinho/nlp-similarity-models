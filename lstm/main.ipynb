{
 "cells": [
  {
   "cell_type": "markdown",
   "metadata": {},
   "source": [
    "# About\n",
    "### Author:\n",
    "    Thiago Luis Rodrigues Pinho @AILAB \n",
    "### Start Date:\n",
    "    17/04/2020\n",
    "### Objectives:\n",
    "    Train a Siamese Manhattan Long Short-Term Memory and use it to evaluate text similarity for ALEI project\n",
    "### Summary:\n",
    "    1. Loading Data\n",
    "        1.1 Sampling Data\n",
    "    2. Treating Data\n",
    "        2.1 Creating Text Pairs\n",
    "        2.2 Embedding Text Pairs To Matrixes\n",
    "    3. Training Siamese ManLSTM\n",
    "        3.1 Creating and training model\n",
    "        3.2 Evaluting the optimal number of clusters\n",
    "    4. Predicting\n",
    "        4.1 Finding the most similar text\n",
    "        4.2 Generating Heatmap for Text Similarities\n",
    "    5. Bibliography\n",
    "    "
   ]
  },
  {
   "cell_type": "markdown",
   "metadata": {
    "ExecuteTime": {
     "end_time": "2020-04-14T18:21:06.284091Z",
     "start_time": "2020-04-14T18:21:06.276414Z"
    }
   },
   "source": [
    "# [ALEI] IAgrupador com Siamese Manhattan LSTM (MaLSTM)"
   ]
  },
  {
   "cell_type": "code",
   "execution_count": 122,
   "metadata": {
    "ExecuteTime": {
     "end_time": "2020-04-23T18:48:10.146238Z",
     "start_time": "2020-04-23T18:48:10.129170Z"
    }
   },
   "outputs": [],
   "source": [
    "from time import time\n",
    "\n",
    "import spacy\n",
    "from spacy.lang.pt.stop_words import STOP_WORDS\n",
    "from sklearn.decomposition import PCA, TruncatedSVD\n",
    "from sklearn.feature_extraction.text import CountVectorizer, TfidfTransformer\n",
    "from sklearn.pipeline import Pipeline\n",
    "from sklearn.cluster import KMeans\n",
    "from sklearn.model_selection import train_test_split\n",
    "from fastparquet import write\n",
    "import pandas as pd\n",
    "import numpy as np\n",
    "import matplotlib.pyplot as plt\n",
    "import tensorflow as tf\n",
    "import seaborn as sns\n",
    "from tensorflow.python.keras.models import Model, Sequential, load_model\n",
    "from tensorflow.python.keras.layers import Input, Embedding, LSTM, GRU, Conv1D, Conv2D, GlobalMaxPool1D, Dense, Dropout\n",
    "\n",
    "from util import make_w2v_embeddings\n",
    "from util import split_and_zero_padding\n",
    "from util import ManDist\n",
    "%matplotlib inline\n",
    "plt.style.use('fivethirtyeight')\n",
    "sns.set()"
   ]
  },
  {
   "cell_type": "markdown",
   "metadata": {},
   "source": [
    "## 1. Loading data"
   ]
  },
  {
   "cell_type": "code",
   "execution_count": 2,
   "metadata": {
    "ExecuteTime": {
     "end_time": "2020-04-23T16:46:39.418959Z",
     "start_time": "2020-04-23T16:46:34.056632Z"
    },
    "scrolled": true
   },
   "outputs": [
    {
     "name": "stdout",
     "output_type": "stream",
     "text": [
      "<class 'pandas.core.frame.DataFrame'>\n",
      "RangeIndex: 2036 entries, 0 to 2035\n",
      "Data columns (total 3 columns):\n",
      " #   Column         Non-Null Count  Dtype \n",
      "---  ------         --------------  ----- \n",
      " 0   process_class  2036 non-null   object\n",
      " 1   text           2036 non-null   object\n",
      " 2   process_id     2036 non-null   object\n",
      "dtypes: object(3)\n",
      "memory usage: 47.8+ KB\n",
      "None\n",
      "CPU times: user 5.05 s, sys: 302 ms, total: 5.36 s\n",
      "Wall time: 5.36 s\n"
     ]
    }
   ],
   "source": [
    "%%time \n",
    "RELATIVE_FOLDER_PATH = \"./data/\"\n",
    "VECTOR_MODEL_NAME = \"pt_core_news_sm\"\n",
    "NLP_SPACY = spacy.load(VECTOR_MODEL_NAME)\n",
    "filename = \"data_preprocessed\"\n",
    "stopwords_set = set(STOP_WORDS)\n",
    "\n",
    "parquet_filename = RELATIVE_FOLDER_PATH + filename + \".parquet.gzip\"\n",
    "ailab_df = pd.read_parquet(parquet_filename, columns=['process_class', 'text', 'process_id'])\n",
    "print(ailab_df.info())"
   ]
  },
  {
   "cell_type": "markdown",
   "metadata": {},
   "source": [
    "## 2. Treating Data"
   ]
  },
  {
   "cell_type": "code",
   "execution_count": 62,
   "metadata": {
    "ExecuteTime": {
     "end_time": "2020-04-23T17:39:14.834107Z",
     "start_time": "2020-04-23T17:39:14.812307Z"
    }
   },
   "outputs": [
    {
     "name": "stdout",
     "output_type": "stream",
     "text": [
      "<class 'pandas.core.frame.DataFrame'>\n",
      "Int64Index: 92 entries, 1335 to 479\n",
      "Data columns (total 3 columns):\n",
      " #   Column         Non-Null Count  Dtype \n",
      "---  ------         --------------  ----- \n",
      " 0   process_class  92 non-null     object\n",
      " 1   text           92 non-null     object\n",
      " 2   process_id     92 non-null     object\n",
      "dtypes: object(3)\n",
      "memory usage: 2.9+ KB\n",
      "None\n"
     ]
    }
   ],
   "source": [
    "num_samples = 100\n",
    "sample_df = ailab_df.sample(n=num_samples)\n",
    "sample_df = sample_df.drop_duplicates(subset='process_id')\n",
    "print(sample_df.info())"
   ]
  },
  {
   "cell_type": "markdown",
   "metadata": {},
   "source": [
    "### 2.1 Creating Text Pairs\n",
    "It's necessary to prepare data so each input is a pair os texts and if they are close"
   ]
  },
  {
   "cell_type": "code",
   "execution_count": 63,
   "metadata": {
    "ExecuteTime": {
     "end_time": "2020-04-23T17:39:27.871081Z",
     "start_time": "2020-04-23T17:39:26.320522Z"
    },
    "scrolled": false
   },
   "outputs": [
    {
     "name": "stdout",
     "output_type": "stream",
     "text": [
      "CPU times: user 6 µs, sys: 0 ns, total: 6 µs\n",
      "Wall time: 11 µs\n",
      "<class 'pandas.core.frame.DataFrame'>\n",
      "RangeIndex: 8464 entries, 0 to 8463\n",
      "Data columns (total 5 columns):\n",
      " #   Column        Non-Null Count  Dtype \n",
      "---  ------        --------------  ----- \n",
      " 0   question1_id  8464 non-null   object\n",
      " 1   question1     8464 non-null   object\n",
      " 2   question2_id  8464 non-null   object\n",
      " 3   question2     8464 non-null   object\n",
      " 4   is_duplicate  8464 non-null   bool  \n",
      "dtypes: bool(1), object(4)\n",
      "memory usage: 272.9+ KB\n",
      "None\n"
     ]
    }
   ],
   "source": [
    "%time\n",
    "text_pairs = []\n",
    "comparing_same_text = True\n",
    "for question_1_index, question_1_row in sample_df.iterrows():\n",
    "    question_1_text = question_1_row['text']\n",
    "    question_1_id = question_1_row['process_id']\n",
    "    question_1_class = question_1_row['process_class']\n",
    "    for question_2_index, question_2_row in sample_df.iterrows():\n",
    "        if not comparing_same_text and question_1_index == question_2_index:\n",
    "            continue\n",
    "        question_2_text = question_2_row['text']\n",
    "        question_2_id = question_2_row['process_id']\n",
    "        question_2_class = question_2_row['process_class']\n",
    "        is_same_class = question_1_class == question_2_class\n",
    "        text_pairs.append([question_1_id, question_1_text, question_2_id, question_2_text, is_same_class])\n",
    "\n",
    "train_df = pd.DataFrame(text_pairs, columns=['question1_id', 'question1', 'question2_id', 'question2', 'is_duplicate'])\n",
    "print(train_df.info())"
   ]
  },
  {
   "cell_type": "markdown",
   "metadata": {},
   "source": [
    "#### Storing partial results"
   ]
  },
  {
   "cell_type": "code",
   "execution_count": 64,
   "metadata": {
    "ExecuteTime": {
     "end_time": "2020-04-23T17:39:32.268588Z",
     "start_time": "2020-04-23T17:39:32.256613Z"
    }
   },
   "outputs": [],
   "source": [
    "pair_text_filename = \"text_pairs\" + str(num_samples)\n",
    "pair_text_parquet_filename = RELATIVE_FOLDER_PATH + pair_text_filename + \".parquet.gzip\""
   ]
  },
  {
   "cell_type": "code",
   "execution_count": 65,
   "metadata": {
    "ExecuteTime": {
     "end_time": "2020-04-23T17:39:40.320556Z",
     "start_time": "2020-04-23T17:39:33.797134Z"
    }
   },
   "outputs": [],
   "source": [
    "write(pair_text_parquet_filename, train_df, compression='gzip')"
   ]
  },
  {
   "cell_type": "markdown",
   "metadata": {},
   "source": [
    "#### Loading partial results"
   ]
  },
  {
   "cell_type": "code",
   "execution_count": 66,
   "metadata": {
    "ExecuteTime": {
     "end_time": "2020-04-23T17:39:42.944009Z",
     "start_time": "2020-04-23T17:39:41.811797Z"
    },
    "scrolled": false
   },
   "outputs": [
    {
     "name": "stdout",
     "output_type": "stream",
     "text": [
      "  question1_id                                          question1  \\\n",
      "0      1061009  ante exposto declaro extinto feito resolucao m...   \n",
      "1      1061009  ante exposto declaro extinto feito resolucao m...   \n",
      "2      1061009  ante exposto declaro extinto feito resolucao m...   \n",
      "3      1061009  ante exposto declaro extinto feito resolucao m...   \n",
      "4      1061009  ante exposto declaro extinto feito resolucao m...   \n",
      "\n",
      "  question2_id                                          question2  \\\n",
      "0      1061009  ante exposto declaro extinto feito resolucao m...   \n",
      "1      1134520  advocaciageral uniao procuradoria regional uni...   \n",
      "2      1057381  pretendidas exclusoes base calculo folha salar...   \n",
      "3      1040710  diretamente deducao quantia recebida constitui...   \n",
      "4      1051155  documento recebido eletronicamente origem docu...   \n",
      "\n",
      "   is_duplicate  \n",
      "0          True  \n",
      "1          True  \n",
      "2          True  \n",
      "3         False  \n",
      "4         False  \n"
     ]
    }
   ],
   "source": [
    "pair_text_df = pd.read_parquet(pair_text_parquet_filename)\n",
    "print(pair_text_df.head())"
   ]
  },
  {
   "cell_type": "markdown",
   "metadata": {},
   "source": [
    "### 2.2 Embedding Text Pairs To Matrixes"
   ]
  },
  {
   "cell_type": "code",
   "execution_count": 67,
   "metadata": {
    "ExecuteTime": {
     "end_time": "2020-04-23T17:43:03.869826Z",
     "start_time": "2020-04-23T17:39:44.368381Z"
    }
   },
   "outputs": [
    {
     "name": "stdout",
     "output_type": "stream",
     "text": [
      "CPU times: user 4 µs, sys: 1 µs, total: 5 µs\n",
      "Wall time: 6.91 µs\n",
      "Loading word2vec model(it may takes 2-3 mins) ...\n",
      "1,000 sentences embedded.\n",
      "2,000 sentences embedded.\n",
      "3,000 sentences embedded.\n",
      "4,000 sentences embedded.\n",
      "5,000 sentences embedded.\n",
      "6,000 sentences embedded.\n",
      "7,000 sentences embedded.\n",
      "8,000 sentences embedded.\n"
     ]
    }
   ],
   "source": [
    "%time\n",
    "for q in ['question1', 'question2']:\n",
    "    pair_text_df[q + '_n'] = pair_text_df[q]\n",
    "\n",
    "# Make word2vec embeddings\n",
    "embedding_dim = 300\n",
    "max_seq_length = 40\n",
    "use_w2v = True\n",
    "\n",
    "pair_text_df, embeddings = make_w2v_embeddings(pair_text_df, embedding_dim=embedding_dim, empty_w2v=not use_w2v)"
   ]
  },
  {
   "cell_type": "markdown",
   "metadata": {},
   "source": [
    "#### Storing partial results"
   ]
  },
  {
   "cell_type": "code",
   "execution_count": 68,
   "metadata": {
    "ExecuteTime": {
     "end_time": "2020-04-23T17:43:05.280070Z",
     "start_time": "2020-04-23T17:43:05.261565Z"
    }
   },
   "outputs": [],
   "source": [
    "embedded_pairs_filename = \"embedded_pairs\" + str(num_samples)\n",
    "embedding_filename = 'embeddings' + str(num_samples)\n",
    "embedded_pairs_parquet_filename = RELATIVE_FOLDER_PATH + embedded_pairs_filename + \".parquet.gzip\"\n",
    "embedding_npy_filename = RELATIVE_FOLDER_PATH + embedded_pairs_filename + \".npy\""
   ]
  },
  {
   "cell_type": "code",
   "execution_count": 69,
   "metadata": {
    "ExecuteTime": {
     "end_time": "2020-04-23T17:43:20.082619Z",
     "start_time": "2020-04-23T17:43:06.655031Z"
    }
   },
   "outputs": [],
   "source": [
    "write(embedded_pairs_parquet_filename, pair_text_df, compression='gzip')\n",
    "np.save(embedding_npy_filename, embeddings)"
   ]
  },
  {
   "cell_type": "markdown",
   "metadata": {},
   "source": [
    "#### Loading partial results"
   ]
  },
  {
   "cell_type": "code",
   "execution_count": 70,
   "metadata": {
    "ExecuteTime": {
     "end_time": "2020-04-23T17:43:26.913002Z",
     "start_time": "2020-04-23T17:43:21.683866Z"
    }
   },
   "outputs": [
    {
     "name": "stdout",
     "output_type": "stream",
     "text": [
      "<class 'pandas.core.frame.DataFrame'>\n",
      "RangeIndex: 8464 entries, 0 to 8463\n",
      "Data columns (total 7 columns):\n",
      " #   Column        Non-Null Count  Dtype \n",
      "---  ------        --------------  ----- \n",
      " 0   question1_id  8464 non-null   object\n",
      " 1   question1     8464 non-null   object\n",
      " 2   question2_id  8464 non-null   object\n",
      " 3   question2     8464 non-null   object\n",
      " 4   is_duplicate  8464 non-null   bool  \n",
      " 5   question1_n   8464 non-null   object\n",
      " 6   question2_n   8464 non-null   object\n",
      "dtypes: bool(1), object(6)\n",
      "memory usage: 405.1+ KB\n",
      "None\n",
      "[[ 0.          0.          0.         ...  0.          0.\n",
      "   0.        ]\n",
      " [ 0.03857422  0.37890625  0.13867188 ... -0.16699219 -0.04125977\n",
      "  -0.30273438]\n",
      " [-1.62352372  0.60145798 -1.28576962 ...  0.41427751 -0.77134373\n",
      "  -0.39726442]\n",
      " ...\n",
      " [-0.0559082   0.11767578  0.2109375  ... -0.04272461  0.14746094\n",
      "  -0.18261719]\n",
      " [ 0.05078125 -0.02258301 -0.16992188 ... -0.02075195  0.12695312\n",
      "  -0.23339844]\n",
      " [-0.1640625  -0.06176758 -0.05419922 ... -0.03295898  0.19335938\n",
      "  -0.05932617]]\n"
     ]
    }
   ],
   "source": [
    "embedded_pairs_df = pd.read_parquet(embedded_pairs_parquet_filename)\n",
    "embeddings = np.load(embedding_npy_filename)\n",
    "print(embedded_pairs_df.info())\n",
    "print(embeddings)"
   ]
  },
  {
   "cell_type": "markdown",
   "metadata": {},
   "source": [
    "#### Spliting Testind and Prediction Data"
   ]
  },
  {
   "cell_type": "code",
   "execution_count": 85,
   "metadata": {
    "ExecuteTime": {
     "end_time": "2020-04-23T18:04:19.037625Z",
     "start_time": "2020-04-23T18:04:19.011040Z"
    }
   },
   "outputs": [
    {
     "name": "stdout",
     "output_type": "stream",
     "text": [
      "<class 'pandas.core.frame.DataFrame'>\n",
      "Int64Index: 1692 entries, 4341 to 5800\n",
      "Data columns (total 7 columns):\n",
      " #   Column        Non-Null Count  Dtype \n",
      "---  ------        --------------  ----- \n",
      " 0   question1_id  1692 non-null   object\n",
      " 1   question1     1692 non-null   object\n",
      " 2   question2_id  1692 non-null   object\n",
      " 3   question2     1692 non-null   object\n",
      " 4   is_duplicate  1692 non-null   bool  \n",
      " 5   question1_n   1692 non-null   object\n",
      " 6   question2_n   1692 non-null   object\n",
      "dtypes: bool(1), object(6)\n",
      "memory usage: 94.2+ KB\n",
      "None\n"
     ]
    }
   ],
   "source": [
    "test_size = int(len(pair_text_df) * 0.2)\n",
    "train_df, test_df = train_test_split(embedded_pairs_df, test_size=test_size)\n",
    "print(test_df.info())"
   ]
  },
  {
   "cell_type": "markdown",
   "metadata": {},
   "source": [
    "## 3. Training Siamese ManLSTM"
   ]
  },
  {
   "cell_type": "code",
   "execution_count": 86,
   "metadata": {
    "ExecuteTime": {
     "end_time": "2020-04-23T18:04:20.810888Z",
     "start_time": "2020-04-23T18:04:20.691326Z"
    },
    "scrolled": false
   },
   "outputs": [],
   "source": [
    "# Split to train validation\n",
    "validation_size = int(len(train_df) * 0.2)\n",
    "training_size = len(train_df) - validation_size\n",
    "\n",
    "X = train_df[['question1_n', 'question2_n']]\n",
    "Y = train_df['is_duplicate']\n",
    "\n",
    "X_train, X_validation, Y_train, Y_validation = train_test_split(X, Y, test_size=validation_size)\n",
    "\n",
    "X_train = split_and_zero_padding(X_train, max_seq_length)\n",
    "X_validation = split_and_zero_padding(X_validation, max_seq_length)\n",
    "\n",
    "# Convert labels to their numpy representations\n",
    "Y_train = Y_train.values\n",
    "Y_validation = Y_validation.values\n",
    "\n",
    "# Make sure everything is ok\n",
    "assert X_train['left'].shape == X_train['right'].shape\n",
    "assert len(X_train['left']) == len(Y_train)"
   ]
  },
  {
   "cell_type": "markdown",
   "metadata": {},
   "source": [
    "### 3.1 Creating and training model"
   ]
  },
  {
   "cell_type": "code",
   "execution_count": 87,
   "metadata": {
    "ExecuteTime": {
     "end_time": "2020-04-23T18:07:26.617342Z",
     "start_time": "2020-04-23T18:04:22.400439Z"
    },
    "scrolled": false
   },
   "outputs": [
    {
     "name": "stdout",
     "output_type": "stream",
     "text": [
      "CPU times: user 3 µs, sys: 0 ns, total: 3 µs\n",
      "Wall time: 6.68 µs\n",
      "Model: \"model_1\"\n",
      "__________________________________________________________________________________________________\n",
      "Layer (type)                    Output Shape         Param #     Connected to                     \n",
      "==================================================================================================\n",
      "input_3 (InputLayer)            [(None, 40)]         0                                            \n",
      "__________________________________________________________________________________________________\n",
      "input_4 (InputLayer)            [(None, 40)]         0                                            \n",
      "__________________________________________________________________________________________________\n",
      "sequential_1 (Sequential)       (None, 50)           4143000     input_3[0][0]                    \n",
      "                                                                 input_4[0][0]                    \n",
      "__________________________________________________________________________________________________\n",
      "man_dist_1 (ManDist)            (None, 1)            0           sequential_1[1][0]               \n",
      "                                                                 sequential_1[2][0]               \n",
      "==================================================================================================\n",
      "Total params: 4,143,000\n",
      "Trainable params: 70,200\n",
      "Non-trainable params: 4,072,800\n",
      "__________________________________________________________________________________________________\n",
      "Model: \"sequential_1\"\n",
      "_________________________________________________________________\n",
      "Layer (type)                 Output Shape              Param #   \n",
      "=================================================================\n",
      "embedding_1 (Embedding)      (None, 40, 300)           4072800   \n",
      "_________________________________________________________________\n",
      "lstm_1 (LSTM)                (None, 50)                70200     \n",
      "=================================================================\n",
      "Total params: 4,143,000\n",
      "Trainable params: 70,200\n",
      "Non-trainable params: 4,072,800\n",
      "_________________________________________________________________\n",
      "Train on 5418 samples, validate on 1354 samples\n",
      "Epoch 1/50\n",
      "5418/5418 [==============================] - 5s 976us/sample - loss: 0.4801 - acc: 0.5197 - val_loss: 0.4805 - val_acc: 0.5192\n",
      "Epoch 2/50\n",
      "5418/5418 [==============================] - 4s 683us/sample - loss: 0.4792 - acc: 0.5197 - val_loss: 0.4791 - val_acc: 0.5192\n",
      "Epoch 3/50\n",
      "5418/5418 [==============================] - 3s 599us/sample - loss: 0.4756 - acc: 0.5197 - val_loss: 0.4760 - val_acc: 0.5192\n",
      "Epoch 4/50\n",
      "5418/5418 [==============================] - 3s 621us/sample - loss: 0.4705 - acc: 0.5205 - val_loss: 0.4713 - val_acc: 0.5192\n",
      "Epoch 5/50\n",
      "5418/5418 [==============================] - 3s 628us/sample - loss: 0.4643 - acc: 0.5234 - val_loss: 0.4630 - val_acc: 0.5199\n",
      "Epoch 6/50\n",
      "5418/5418 [==============================] - 3s 610us/sample - loss: 0.4573 - acc: 0.5288 - val_loss: 0.4548 - val_acc: 0.5251\n",
      "Epoch 7/50\n",
      "5418/5418 [==============================] - 3s 617us/sample - loss: 0.4500 - acc: 0.5345 - val_loss: 0.4460 - val_acc: 0.5355\n",
      "Epoch 8/50\n",
      "5418/5418 [==============================] - 3s 604us/sample - loss: 0.4410 - acc: 0.5397 - val_loss: 0.4378 - val_acc: 0.5428\n",
      "Epoch 9/50\n",
      "5418/5418 [==============================] - 3s 605us/sample - loss: 0.4325 - acc: 0.5559 - val_loss: 0.4294 - val_acc: 0.5635\n",
      "Epoch 10/50\n",
      "5418/5418 [==============================] - 3s 623us/sample - loss: 0.4248 - acc: 0.5666 - val_loss: 0.4199 - val_acc: 0.5702\n",
      "Epoch 11/50\n",
      "5418/5418 [==============================] - 3s 628us/sample - loss: 0.4144 - acc: 0.5764 - val_loss: 0.4088 - val_acc: 0.5805\n",
      "Epoch 12/50\n",
      "5418/5418 [==============================] - 4s 663us/sample - loss: 0.4016 - acc: 0.5845 - val_loss: 0.3963 - val_acc: 0.5879\n",
      "Epoch 13/50\n",
      "5418/5418 [==============================] - 4s 657us/sample - loss: 0.3900 - acc: 0.5921 - val_loss: 0.3843 - val_acc: 0.5968\n",
      "Epoch 14/50\n",
      "5418/5418 [==============================] - 4s 702us/sample - loss: 0.3746 - acc: 0.6023 - val_loss: 0.3664 - val_acc: 0.6078\n",
      "Epoch 15/50\n",
      "5418/5418 [==============================] - 4s 715us/sample - loss: 0.3537 - acc: 0.6237 - val_loss: 0.3467 - val_acc: 0.6366\n",
      "Epoch 16/50\n",
      "5418/5418 [==============================] - 4s 664us/sample - loss: 0.3361 - acc: 0.6493 - val_loss: 0.3296 - val_acc: 0.6662\n",
      "Epoch 17/50\n",
      "5418/5418 [==============================] - 4s 666us/sample - loss: 0.3233 - acc: 0.6691 - val_loss: 0.3178 - val_acc: 0.6743\n",
      "Epoch 18/50\n",
      "5418/5418 [==============================] - 4s 665us/sample - loss: 0.3088 - acc: 0.6816 - val_loss: 0.2988 - val_acc: 0.6869\n",
      "Epoch 19/50\n",
      "5418/5418 [==============================] - 4s 663us/sample - loss: 0.2936 - acc: 0.6949 - val_loss: 0.2847 - val_acc: 0.7075\n",
      "Epoch 20/50\n",
      "5418/5418 [==============================] - 4s 664us/sample - loss: 0.2797 - acc: 0.7141 - val_loss: 0.2697 - val_acc: 0.7282\n",
      "Epoch 21/50\n",
      "5418/5418 [==============================] - 4s 692us/sample - loss: 0.2691 - acc: 0.7276 - val_loss: 0.2615 - val_acc: 0.7304\n",
      "Epoch 22/50\n",
      "5418/5418 [==============================] - 4s 667us/sample - loss: 0.2624 - acc: 0.7340 - val_loss: 0.2535 - val_acc: 0.7415\n",
      "Epoch 23/50\n",
      "5418/5418 [==============================] - 4s 666us/sample - loss: 0.2552 - acc: 0.7388 - val_loss: 0.2465 - val_acc: 0.7452\n",
      "Epoch 24/50\n",
      "5418/5418 [==============================] - 4s 659us/sample - loss: 0.2494 - acc: 0.7442 - val_loss: 0.2405 - val_acc: 0.7496\n",
      "Epoch 25/50\n",
      "5418/5418 [==============================] - 4s 668us/sample - loss: 0.2442 - acc: 0.7475 - val_loss: 0.2342 - val_acc: 0.7563\n",
      "Epoch 26/50\n",
      "5418/5418 [==============================] - 4s 676us/sample - loss: 0.2368 - acc: 0.7554 - val_loss: 0.2232 - val_acc: 0.7629\n",
      "Epoch 27/50\n",
      "5418/5418 [==============================] - 4s 676us/sample - loss: 0.2230 - acc: 0.7647 - val_loss: 0.2082 - val_acc: 0.7792\n",
      "Epoch 28/50\n",
      "5418/5418 [==============================] - 4s 660us/sample - loss: 0.2103 - acc: 0.7828 - val_loss: 0.1953 - val_acc: 0.7999\n",
      "Epoch 29/50\n",
      "5418/5418 [==============================] - 4s 654us/sample - loss: 0.2000 - acc: 0.7959 - val_loss: 0.1863 - val_acc: 0.8102\n",
      "Epoch 30/50\n",
      "5418/5418 [==============================] - 4s 665us/sample - loss: 0.1939 - acc: 0.8073 - val_loss: 0.1834 - val_acc: 0.8146\n",
      "Epoch 31/50\n",
      "5418/5418 [==============================] - 4s 671us/sample - loss: 0.1905 - acc: 0.8099 - val_loss: 0.1799 - val_acc: 0.8213\n",
      "Epoch 32/50\n",
      "5418/5418 [==============================] - 4s 657us/sample - loss: 0.1878 - acc: 0.8141 - val_loss: 0.1763 - val_acc: 0.8250\n",
      "Epoch 33/50\n",
      "5418/5418 [==============================] - 4s 664us/sample - loss: 0.1851 - acc: 0.8162 - val_loss: 0.1733 - val_acc: 0.8279\n",
      "Epoch 34/50\n",
      "5418/5418 [==============================] - 4s 662us/sample - loss: 0.1810 - acc: 0.8195 - val_loss: 0.1683 - val_acc: 0.8338\n",
      "Epoch 35/50\n",
      "5418/5418 [==============================] - 4s 665us/sample - loss: 0.1756 - acc: 0.8215 - val_loss: 0.1637 - val_acc: 0.8346\n",
      "Epoch 36/50\n",
      "5418/5418 [==============================] - 4s 682us/sample - loss: 0.1709 - acc: 0.8221 - val_loss: 0.1601 - val_acc: 0.8397\n",
      "Epoch 37/50\n",
      "5418/5418 [==============================] - 4s 654us/sample - loss: 0.1649 - acc: 0.8285 - val_loss: 0.1570 - val_acc: 0.8434\n",
      "Epoch 38/50\n",
      "5418/5418 [==============================] - 4s 655us/sample - loss: 0.1608 - acc: 0.8368 - val_loss: 0.1551 - val_acc: 0.8501\n",
      "Epoch 39/50\n",
      "5418/5418 [==============================] - 4s 673us/sample - loss: 0.1589 - acc: 0.8431 - val_loss: 0.1544 - val_acc: 0.8508\n",
      "Epoch 40/50\n",
      "5418/5418 [==============================] - 4s 655us/sample - loss: 0.1572 - acc: 0.8453 - val_loss: 0.1529 - val_acc: 0.8530\n",
      "Epoch 41/50\n",
      "5418/5418 [==============================] - 4s 671us/sample - loss: 0.1555 - acc: 0.8477 - val_loss: 0.1501 - val_acc: 0.8545\n",
      "Epoch 42/50\n",
      "5418/5418 [==============================] - 4s 652us/sample - loss: 0.1501 - acc: 0.8535 - val_loss: 0.1455 - val_acc: 0.8582\n",
      "Epoch 43/50\n",
      "5418/5418 [==============================] - 4s 666us/sample - loss: 0.1445 - acc: 0.8640 - val_loss: 0.1421 - val_acc: 0.8678\n"
     ]
    },
    {
     "name": "stdout",
     "output_type": "stream",
     "text": [
      "Epoch 44/50\n",
      "5418/5418 [==============================] - 4s 653us/sample - loss: 0.1422 - acc: 0.8667 - val_loss: 0.1414 - val_acc: 0.8678\n",
      "Epoch 45/50\n",
      "5418/5418 [==============================] - 4s 661us/sample - loss: 0.1409 - acc: 0.8686 - val_loss: 0.1404 - val_acc: 0.8678\n",
      "Epoch 46/50\n",
      "5418/5418 [==============================] - 4s 694us/sample - loss: 0.1395 - acc: 0.8688 - val_loss: 0.1388 - val_acc: 0.8678\n",
      "Epoch 47/50\n",
      "5418/5418 [==============================] - 4s 671us/sample - loss: 0.1383 - acc: 0.8690 - val_loss: 0.1379 - val_acc: 0.8678\n",
      "Epoch 48/50\n",
      "5418/5418 [==============================] - 4s 651us/sample - loss: 0.1371 - acc: 0.8690 - val_loss: 0.1367 - val_acc: 0.8685\n",
      "Epoch 49/50\n",
      "5418/5418 [==============================] - 4s 649us/sample - loss: 0.1357 - acc: 0.8693 - val_loss: 0.1350 - val_acc: 0.8685\n",
      "Epoch 50/50\n",
      "5418/5418 [==============================] - 4s 663us/sample - loss: 0.1339 - acc: 0.8693 - val_loss: 0.1323 - val_acc: 0.8685\n",
      "Training time finished.\n",
      "50 epochs in       182.17\n"
     ]
    }
   ],
   "source": [
    "%time\n",
    "# Model variables\n",
    "gpus = 1\n",
    "batch_size = 1024 * gpus\n",
    "n_epoch = 50\n",
    "n_hidden = 50\n",
    "\n",
    "# Define the shared model\n",
    "x = Sequential()\n",
    "x.add(Embedding(len(embeddings), embedding_dim,\n",
    "                weights=[embeddings], input_shape=(max_seq_length,), trainable=False))\n",
    "# CNN\n",
    "# x.add(Conv1D(250, kernel_size=5, activation='relu'))\n",
    "# x.add(GlobalMaxPool1D())\n",
    "# x.add(Dense(250, activation='relu'))\n",
    "# x.add(Dropout(0.3))\n",
    "# x.add(Dense(1, activation='sigmoid'))\n",
    "# LSTM\n",
    "x.add(LSTM(n_hidden))\n",
    "\n",
    "shared_model = x\n",
    "\n",
    "# The visible layer\n",
    "left_input = Input(shape=(max_seq_length,), dtype='int32')\n",
    "right_input = Input(shape=(max_seq_length,), dtype='int32')\n",
    "\n",
    "# Pack it all up into a Manhattan Distance model\n",
    "malstm_distance = ManDist()([shared_model(left_input), shared_model(right_input)])\n",
    "model = Model(inputs=[left_input, right_input], outputs=[malstm_distance])\n",
    "\n",
    "if gpus >= 2:\n",
    "    # `multi_gpu_model()` is a so quite buggy. it breaks the saved model.\n",
    "    model = tf.keras.utils.multi_gpu_model(model, gpus=gpus)\n",
    "model.compile(loss='mean_squared_error', optimizer=tf.keras.optimizers.Adam(), metrics=['accuracy'])\n",
    "model.summary()\n",
    "shared_model.summary()\n",
    "\n",
    "# Start trainings\n",
    "training_start_time = time()\n",
    "malstm_trained = model.fit([X_train['left'], X_train['right']], Y_train,\n",
    "                           batch_size=batch_size, epochs=n_epoch,\n",
    "                           validation_data=([X_validation['left'], X_validation['right']], Y_validation))\n",
    "training_end_time = time()\n",
    "print(\"Training time finished.\\n%d epochs in %12.2f\" % (n_epoch,\n",
    "                                                        training_end_time - training_start_time))\n",
    "\n",
    "model.save('./data/SiameseLSTM_' + str(num_samples) + '.h5')"
   ]
  },
  {
   "cell_type": "markdown",
   "metadata": {},
   "source": [
    "## 3.3 Evaluating the model"
   ]
  },
  {
   "cell_type": "code",
   "execution_count": 88,
   "metadata": {
    "ExecuteTime": {
     "end_time": "2020-04-23T18:07:28.573858Z",
     "start_time": "2020-04-23T18:07:28.084917Z"
    }
   },
   "outputs": [
    {
     "name": "stdout",
     "output_type": "stream",
     "text": [
      "CPU times: user 5 µs, sys: 0 ns, total: 5 µs\n",
      "Wall time: 9.06 µs\n"
     ]
    },
    {
     "data": {
      "image/png": "[encoded data removed]",
      "text/plain": [
       "<Figure size 432x288 with 2 Axes>"
      ]
     },
     "metadata": {},
     "output_type": "display_data"
    },
    {
     "name": "stdout",
     "output_type": "stream",
     "text": [
      "0.8685(max: 0.8685)\n",
      "Done.\n"
     ]
    }
   ],
   "source": [
    "%time\n",
    "# Plot accuracy\n",
    "plt.subplot(211)\n",
    "plt.plot(malstm_trained.history['acc'])\n",
    "plt.plot(malstm_trained.history['val_acc'])\n",
    "plt.title('Model Accuracy')\n",
    "plt.ylabel('Accuracy')\n",
    "plt.xlabel('Epoch')\n",
    "plt.legend(['Train', 'Validation'], loc='upper left')\n",
    "\n",
    "# Plot loss\n",
    "plt.subplot(212)\n",
    "plt.plot(malstm_trained.history['loss'])\n",
    "plt.plot(malstm_trained.history['val_loss'])\n",
    "plt.title('Model Loss')\n",
    "plt.ylabel('Loss')\n",
    "plt.xlabel('Epoch')\n",
    "plt.legend(['Train', 'Validation'], loc='upper right')\n",
    "\n",
    "plt.tight_layout(h_pad=1.0)\n",
    "plt.savefig('./data/history-graph_' + str(num_samples) + '.png')\n",
    "plt.show()\n",
    "\n",
    "print(str(malstm_trained.history['val_acc'][-1])[:6] +\n",
    "      \"(max: \" + str(max(malstm_trained.history['val_acc']))[:6] + \")\")\n",
    "print(\"Done.\")"
   ]
  },
  {
   "cell_type": "markdown",
   "metadata": {},
   "source": [
    "## 4. Predicting "
   ]
  },
  {
   "cell_type": "code",
   "execution_count": 89,
   "metadata": {
    "ExecuteTime": {
     "end_time": "2020-04-23T18:07:34.685176Z",
     "start_time": "2020-04-23T18:07:30.125354Z"
    },
    "scrolled": true
   },
   "outputs": [
    {
     "name": "stdout",
     "output_type": "stream",
     "text": [
      "Model: \"model_1\"\n",
      "__________________________________________________________________________________________________\n",
      "Layer (type)                    Output Shape         Param #     Connected to                     \n",
      "==================================================================================================\n",
      "input_3 (InputLayer)            [(None, 40)]         0                                            \n",
      "__________________________________________________________________________________________________\n",
      "input_4 (InputLayer)            [(None, 40)]         0                                            \n",
      "__________________________________________________________________________________________________\n",
      "sequential_1 (Sequential)       (None, 50)           4143000     input_3[0][0]                    \n",
      "                                                                 input_4[0][0]                    \n",
      "__________________________________________________________________________________________________\n",
      "man_dist_1 (ManDist)            (None, 1)            0           sequential_1[1][0]               \n",
      "                                                                 sequential_1[2][0]               \n",
      "==================================================================================================\n",
      "Total params: 4,143,000\n",
      "Trainable params: 70,200\n",
      "Non-trainable params: 4,072,800\n",
      "__________________________________________________________________________________________________\n"
     ]
    }
   ],
   "source": [
    "model = tf.keras.models.load_model('./data/SiameseLSTM_' + str(num_samples) + '.h5', custom_objects={'ManDist': ManDist})\n",
    "model.summary()"
   ]
  },
  {
   "cell_type": "markdown",
   "metadata": {
    "ExecuteTime": {
     "end_time": "2020-04-20T18:18:32.321239Z",
     "start_time": "2020-04-20T18:15:16.130Z"
    }
   },
   "source": [
    "### 4.1 Finding the most similar text"
   ]
  },
  {
   "cell_type": "code",
   "execution_count": 71,
   "metadata": {
    "ExecuteTime": {
     "end_time": "2020-04-23T17:43:28.483081Z",
     "start_time": "2020-04-23T17:43:28.474775Z"
    }
   },
   "outputs": [
    {
     "name": "stdout",
     "output_type": "stream",
     "text": [
      "CPU times: user 4 µs, sys: 0 ns, total: 4 µs\n",
      "Wall time: 7.87 µs\n",
      "881223\n",
      "2000\n"
     ]
    }
   ],
   "source": [
    "%time\n",
    "matching_questions = []\n",
    "\n",
    "choosen_question_id = test_df['question1_id'].to_list()[0]\n",
    "print(choosen_question_id)\n",
    "    \n",
    "choosen_question_mask = test_df['question1_id'].values == choosen_question_id\n",
    "print(len(test_df))"
   ]
  },
  {
   "cell_type": "code",
   "execution_count": 72,
   "metadata": {
    "ExecuteTime": {
     "end_time": "2020-04-23T17:43:29.989897Z",
     "start_time": "2020-04-23T17:43:29.966995Z"
    },
    "scrolled": true
   },
   "outputs": [
    {
     "name": "stdout",
     "output_type": "stream",
     "text": [
      "evento senta procedimento comum juizado especial civel 9320124047113rs autor irineu tillwitz advogado luiz gustavo capitani silva reimann uniao fazenda nacional sentenca vistos dispensado relatorio ST\n",
      "pagina separacao gerada automaticamente evento voto data evento\n"
     ]
    }
   ],
   "source": [
    "# Split to dicts and append zero padding.\n",
    "X_test = split_and_zero_padding(test_df[choosen_question_mask], max_seq_length)\n",
    "\n",
    "# Make sure everything is ok\n",
    "assert X_test['left'].shape == X_test['right'].shape\n",
    "# --\n",
    "\n",
    "prediction = model.predict([X_test['left'], X_test['right']])\n",
    "closests_text = np.argmax(prediction)\n",
    "most_similar_text = test_df[choosen_question_mask][:1]\n",
    "print(most_similar_text['question1'].values[0][:200])\n",
    "print(most_similar_text['question2'].values[0][:200])"
   ]
  },
  {
   "cell_type": "markdown",
   "metadata": {},
   "source": [
    "### 4.3 Generating Heatmap for Text Similarities"
   ]
  },
  {
   "cell_type": "code",
   "execution_count": null,
   "metadata": {
    "ExecuteTime": {
     "end_time": "2020-04-23T18:07:58.745731Z",
     "start_time": "2020-04-23T18:07:58.734967Z"
    }
   },
   "outputs": [],
   "source": [
    "unique_ids_list = embedded_pairs_df['question1_id'].unique().tolist()\n",
    "\n",
    "unique_ids_list.sort()\n",
    "print(unique_ids_list)"
   ]
  },
  {
   "cell_type": "code",
   "execution_count": null,
   "metadata": {
    "ExecuteTime": {
     "end_time": "2020-04-23T18:21:12.225089Z",
     "start_time": "2020-04-23T18:21:08.065167Z"
    }
   },
   "outputs": [],
   "source": [
    "dimension = len(unique_ids_list)\n",
    "distances_mapped = dict()\n",
    "for choosen_id in unique_ids_list:\n",
    "    choosen_question_mask = embedded_pairs_df['question1_id'].values == choosen_id\n",
    "    compared_df = embedded_pairs_df[choosen_question_mask]\n",
    "    \n",
    "    compared_df.sort_values(by=['question2_id'], inplace=True)\n",
    "    \n",
    "    compared_ids_list = compared_df['question2_id'].to_list()\n",
    "    if compared_ids_list != unique_ids_list:\n",
    "        break\n",
    "        print(\"An error ocurred\")\n",
    "    # Split to dicts and append zero padding.\n",
    "    X_test = split_and_zero_padding(compared_df, max_seq_length)\n",
    "\n",
    "    # Make sure everything is ok\n",
    "    assert X_test['left'].shape == X_test['right'].shape\n",
    "    # --\n",
    "\n",
    "    predictions_list = model.predict([X_test['left'], X_test['right']])\n",
    "    distances_mapped[choosen_id] = [text_distance[0] for text_distance in predictions_list.tolist()]"
   ]
  },
  {
   "cell_type": "markdown",
   "metadata": {},
   "source": [
    "#### Reordering rows and columns to improve visualisation"
   ]
  },
  {
   "cell_type": "code",
   "execution_count": 104,
   "metadata": {
    "ExecuteTime": {
     "end_time": "2020-04-23T18:21:15.566070Z",
     "start_time": "2020-04-23T18:21:15.489019Z"
    }
   },
   "outputs": [
    {
     "data": {
      "text/html": [
       "<div>\n",
       "<style scoped>\n",
       "    .dataframe tbody tr th:only-of-type {\n",
       "        vertical-align: middle;\n",
       "    }\n",
       "\n",
       "    .dataframe tbody tr th {\n",
       "        vertical-align: top;\n",
       "    }\n",
       "\n",
       "    .dataframe thead th {\n",
       "        text-align: right;\n",
       "    }\n",
       "</style>\n",
       "<table border=\"1\" class=\"dataframe\">\n",
       "  <thead>\n",
       "    <tr style=\"text-align: right;\">\n",
       "      <th></th>\n",
       "      <th>1010566</th>\n",
       "      <th>1011661</th>\n",
       "      <th>1015067</th>\n",
       "      <th>1017083</th>\n",
       "      <th>1022138</th>\n",
       "      <th>1026327</th>\n",
       "      <th>1036059</th>\n",
       "      <th>1037728</th>\n",
       "      <th>1040710</th>\n",
       "      <th>1044362</th>\n",
       "      <th>...</th>\n",
       "      <th>916369</th>\n",
       "      <th>946628</th>\n",
       "      <th>980179</th>\n",
       "      <th>981655</th>\n",
       "      <th>985162</th>\n",
       "      <th>986082</th>\n",
       "      <th>986097</th>\n",
       "      <th>986453</th>\n",
       "      <th>986596</th>\n",
       "      <th>991397</th>\n",
       "    </tr>\n",
       "  </thead>\n",
       "  <tbody>\n",
       "    <tr>\n",
       "      <th>1010566</th>\n",
       "      <td>1.000000</td>\n",
       "      <td>0.082138</td>\n",
       "      <td>0.000054</td>\n",
       "      <td>0.079212</td>\n",
       "      <td>0.750660</td>\n",
       "      <td>0.082023</td>\n",
       "      <td>0.082214</td>\n",
       "      <td>0.082838</td>\n",
       "      <td>0.081585</td>\n",
       "      <td>0.080421</td>\n",
       "      <td>...</td>\n",
       "      <td>0.761851</td>\n",
       "      <td>0.000040</td>\n",
       "      <td>0.081711</td>\n",
       "      <td>0.663153</td>\n",
       "      <td>0.752876</td>\n",
       "      <td>0.012436</td>\n",
       "      <td>0.752543</td>\n",
       "      <td>0.655649</td>\n",
       "      <td>0.753154</td>\n",
       "      <td>0.084068</td>\n",
       "    </tr>\n",
       "    <tr>\n",
       "      <th>1011661</th>\n",
       "      <td>0.082138</td>\n",
       "      <td>1.000000</td>\n",
       "      <td>0.000045</td>\n",
       "      <td>0.949580</td>\n",
       "      <td>0.066321</td>\n",
       "      <td>0.987722</td>\n",
       "      <td>0.964985</td>\n",
       "      <td>0.978620</td>\n",
       "      <td>0.981080</td>\n",
       "      <td>0.961150</td>\n",
       "      <td>...</td>\n",
       "      <td>0.067973</td>\n",
       "      <td>0.000077</td>\n",
       "      <td>0.981446</td>\n",
       "      <td>0.075873</td>\n",
       "      <td>0.067030</td>\n",
       "      <td>0.016759</td>\n",
       "      <td>0.068108</td>\n",
       "      <td>0.078216</td>\n",
       "      <td>0.066078</td>\n",
       "      <td>0.933355</td>\n",
       "    </tr>\n",
       "    <tr>\n",
       "      <th>1015067</th>\n",
       "      <td>0.000054</td>\n",
       "      <td>0.000045</td>\n",
       "      <td>1.000000</td>\n",
       "      <td>0.000045</td>\n",
       "      <td>0.000048</td>\n",
       "      <td>0.000045</td>\n",
       "      <td>0.000045</td>\n",
       "      <td>0.000045</td>\n",
       "      <td>0.000044</td>\n",
       "      <td>0.000044</td>\n",
       "      <td>...</td>\n",
       "      <td>0.000047</td>\n",
       "      <td>0.000003</td>\n",
       "      <td>0.000045</td>\n",
       "      <td>0.000048</td>\n",
       "      <td>0.000048</td>\n",
       "      <td>0.000009</td>\n",
       "      <td>0.000048</td>\n",
       "      <td>0.000048</td>\n",
       "      <td>0.000048</td>\n",
       "      <td>0.000046</td>\n",
       "    </tr>\n",
       "    <tr>\n",
       "      <th>1017083</th>\n",
       "      <td>0.079212</td>\n",
       "      <td>0.949580</td>\n",
       "      <td>0.000045</td>\n",
       "      <td>1.000000</td>\n",
       "      <td>0.064653</td>\n",
       "      <td>0.947106</td>\n",
       "      <td>0.932140</td>\n",
       "      <td>0.948222</td>\n",
       "      <td>0.938399</td>\n",
       "      <td>0.937910</td>\n",
       "      <td>...</td>\n",
       "      <td>0.065717</td>\n",
       "      <td>0.000078</td>\n",
       "      <td>0.948463</td>\n",
       "      <td>0.073426</td>\n",
       "      <td>0.065323</td>\n",
       "      <td>0.016701</td>\n",
       "      <td>0.065687</td>\n",
       "      <td>0.075321</td>\n",
       "      <td>0.064275</td>\n",
       "      <td>0.892640</td>\n",
       "    </tr>\n",
       "    <tr>\n",
       "      <th>1022138</th>\n",
       "      <td>0.750660</td>\n",
       "      <td>0.066321</td>\n",
       "      <td>0.000048</td>\n",
       "      <td>0.064653</td>\n",
       "      <td>1.000000</td>\n",
       "      <td>0.066093</td>\n",
       "      <td>0.066870</td>\n",
       "      <td>0.066795</td>\n",
       "      <td>0.065727</td>\n",
       "      <td>0.065755</td>\n",
       "      <td>...</td>\n",
       "      <td>0.915409</td>\n",
       "      <td>0.000035</td>\n",
       "      <td>0.065825</td>\n",
       "      <td>0.816508</td>\n",
       "      <td>0.945233</td>\n",
       "      <td>0.013151</td>\n",
       "      <td>0.924026</td>\n",
       "      <td>0.810404</td>\n",
       "      <td>0.949474</td>\n",
       "      <td>0.068260</td>\n",
       "    </tr>\n",
       "  </tbody>\n",
       "</table>\n",
       "<p>5 rows × 92 columns</p>\n",
       "</div>"
      ],
      "text/plain": [
       "          1010566   1011661   1015067   1017083   1022138   1026327   1036059  \\\n",
       "1010566  1.000000  0.082138  0.000054  0.079212  0.750660  0.082023  0.082214   \n",
       "1011661  0.082138  1.000000  0.000045  0.949580  0.066321  0.987722  0.964985   \n",
       "1015067  0.000054  0.000045  1.000000  0.000045  0.000048  0.000045  0.000045   \n",
       "1017083  0.079212  0.949580  0.000045  1.000000  0.064653  0.947106  0.932140   \n",
       "1022138  0.750660  0.066321  0.000048  0.064653  1.000000  0.066093  0.066870   \n",
       "\n",
       "          1037728   1040710   1044362  ...    916369    946628    980179  \\\n",
       "1010566  0.082838  0.081585  0.080421  ...  0.761851  0.000040  0.081711   \n",
       "1011661  0.978620  0.981080  0.961150  ...  0.067973  0.000077  0.981446   \n",
       "1015067  0.000045  0.000044  0.000044  ...  0.000047  0.000003  0.000045   \n",
       "1017083  0.948222  0.938399  0.937910  ...  0.065717  0.000078  0.948463   \n",
       "1022138  0.066795  0.065727  0.065755  ...  0.915409  0.000035  0.065825   \n",
       "\n",
       "           981655    985162    986082    986097    986453    986596    991397  \n",
       "1010566  0.663153  0.752876  0.012436  0.752543  0.655649  0.753154  0.084068  \n",
       "1011661  0.075873  0.067030  0.016759  0.068108  0.078216  0.066078  0.933355  \n",
       "1015067  0.000048  0.000048  0.000009  0.000048  0.000048  0.000048  0.000046  \n",
       "1017083  0.073426  0.065323  0.016701  0.065687  0.075321  0.064275  0.892640  \n",
       "1022138  0.816508  0.945233  0.013151  0.924026  0.810404  0.949474  0.068260  \n",
       "\n",
       "[5 rows x 92 columns]"
      ]
     },
     "execution_count": 104,
     "metadata": {},
     "output_type": "execute_result"
    }
   ],
   "source": [
    "mapped_distances_df = pd.DataFrame.from_dict(distances_mapped, orient='index',\n",
    "                       columns=unique_ids_list)\n",
    "mapped_distances_df.head()"
   ]
  },
  {
   "cell_type": "code",
   "execution_count": 108,
   "metadata": {
    "ExecuteTime": {
     "end_time": "2020-04-23T18:23:41.883038Z",
     "start_time": "2020-04-23T18:23:41.769998Z"
    }
   },
   "outputs": [
    {
     "data": {
      "text/html": [
       "<div>\n",
       "<style scoped>\n",
       "    .dataframe tbody tr th:only-of-type {\n",
       "        vertical-align: middle;\n",
       "    }\n",
       "\n",
       "    .dataframe tbody tr th {\n",
       "        vertical-align: top;\n",
       "    }\n",
       "\n",
       "    .dataframe thead th {\n",
       "        text-align: right;\n",
       "    }\n",
       "</style>\n",
       "<table border=\"1\" class=\"dataframe\">\n",
       "  <thead>\n",
       "    <tr style=\"text-align: right;\">\n",
       "      <th></th>\n",
       "      <th>1010566</th>\n",
       "      <th>1011661</th>\n",
       "      <th>1015067</th>\n",
       "      <th>1017083</th>\n",
       "      <th>1022138</th>\n",
       "      <th>1026327</th>\n",
       "      <th>1036059</th>\n",
       "      <th>1037728</th>\n",
       "      <th>1040710</th>\n",
       "      <th>1044362</th>\n",
       "      <th>...</th>\n",
       "      <th>916369</th>\n",
       "      <th>946628</th>\n",
       "      <th>980179</th>\n",
       "      <th>981655</th>\n",
       "      <th>985162</th>\n",
       "      <th>986082</th>\n",
       "      <th>986097</th>\n",
       "      <th>986453</th>\n",
       "      <th>986596</th>\n",
       "      <th>991397</th>\n",
       "    </tr>\n",
       "  </thead>\n",
       "  <tbody>\n",
       "    <tr>\n",
       "      <th>1010566</th>\n",
       "      <td>1.000000</td>\n",
       "      <td>0.082138</td>\n",
       "      <td>0.000054</td>\n",
       "      <td>0.079212</td>\n",
       "      <td>0.750660</td>\n",
       "      <td>0.082023</td>\n",
       "      <td>0.082214</td>\n",
       "      <td>0.082838</td>\n",
       "      <td>0.081585</td>\n",
       "      <td>0.080421</td>\n",
       "      <td>...</td>\n",
       "      <td>0.761851</td>\n",
       "      <td>0.000040</td>\n",
       "      <td>0.081711</td>\n",
       "      <td>0.663153</td>\n",
       "      <td>0.752876</td>\n",
       "      <td>0.012436</td>\n",
       "      <td>0.752543</td>\n",
       "      <td>0.655649</td>\n",
       "      <td>0.753154</td>\n",
       "      <td>0.084068</td>\n",
       "    </tr>\n",
       "    <tr>\n",
       "      <th>1145986</th>\n",
       "      <td>0.853393</td>\n",
       "      <td>0.076770</td>\n",
       "      <td>0.000051</td>\n",
       "      <td>0.074089</td>\n",
       "      <td>0.828299</td>\n",
       "      <td>0.076696</td>\n",
       "      <td>0.076846</td>\n",
       "      <td>0.077480</td>\n",
       "      <td>0.076189</td>\n",
       "      <td>0.075368</td>\n",
       "      <td>...</td>\n",
       "      <td>0.805985</td>\n",
       "      <td>0.000039</td>\n",
       "      <td>0.076377</td>\n",
       "      <td>0.731620</td>\n",
       "      <td>0.833589</td>\n",
       "      <td>0.011705</td>\n",
       "      <td>0.823953</td>\n",
       "      <td>0.733165</td>\n",
       "      <td>0.828601</td>\n",
       "      <td>0.079177</td>\n",
       "    </tr>\n",
       "    <tr>\n",
       "      <th>825438</th>\n",
       "      <td>0.762522</td>\n",
       "      <td>0.069463</td>\n",
       "      <td>0.000048</td>\n",
       "      <td>0.067462</td>\n",
       "      <td>0.935648</td>\n",
       "      <td>0.069396</td>\n",
       "      <td>0.069742</td>\n",
       "      <td>0.070042</td>\n",
       "      <td>0.068992</td>\n",
       "      <td>0.068353</td>\n",
       "      <td>...</td>\n",
       "      <td>0.919476</td>\n",
       "      <td>0.000035</td>\n",
       "      <td>0.069094</td>\n",
       "      <td>0.819480</td>\n",
       "      <td>0.946632</td>\n",
       "      <td>0.012908</td>\n",
       "      <td>0.949847</td>\n",
       "      <td>0.816957</td>\n",
       "      <td>0.937065</td>\n",
       "      <td>0.071684</td>\n",
       "    </tr>\n",
       "    <tr>\n",
       "      <th>916369</th>\n",
       "      <td>0.761851</td>\n",
       "      <td>0.067973</td>\n",
       "      <td>0.000047</td>\n",
       "      <td>0.065717</td>\n",
       "      <td>0.915409</td>\n",
       "      <td>0.067816</td>\n",
       "      <td>0.067542</td>\n",
       "      <td>0.068411</td>\n",
       "      <td>0.067463</td>\n",
       "      <td>0.066781</td>\n",
       "      <td>...</td>\n",
       "      <td>1.000000</td>\n",
       "      <td>0.000033</td>\n",
       "      <td>0.067501</td>\n",
       "      <td>0.820737</td>\n",
       "      <td>0.932999</td>\n",
       "      <td>0.012742</td>\n",
       "      <td>0.914013</td>\n",
       "      <td>0.804292</td>\n",
       "      <td>0.931345</td>\n",
       "      <td>0.070233</td>\n",
       "    </tr>\n",
       "    <tr>\n",
       "      <th>1139419</th>\n",
       "      <td>0.759513</td>\n",
       "      <td>0.065588</td>\n",
       "      <td>0.000048</td>\n",
       "      <td>0.064617</td>\n",
       "      <td>0.941152</td>\n",
       "      <td>0.065415</td>\n",
       "      <td>0.065788</td>\n",
       "      <td>0.066093</td>\n",
       "      <td>0.065052</td>\n",
       "      <td>0.064534</td>\n",
       "      <td>...</td>\n",
       "      <td>0.920498</td>\n",
       "      <td>0.000034</td>\n",
       "      <td>0.065123</td>\n",
       "      <td>0.823936</td>\n",
       "      <td>0.947120</td>\n",
       "      <td>0.013169</td>\n",
       "      <td>0.927534</td>\n",
       "      <td>0.802456</td>\n",
       "      <td>0.951243</td>\n",
       "      <td>0.067380</td>\n",
       "    </tr>\n",
       "  </tbody>\n",
       "</table>\n",
       "<p>5 rows × 92 columns</p>\n",
       "</div>"
      ],
      "text/plain": [
       "          1010566   1011661   1015067   1017083   1022138   1026327   1036059  \\\n",
       "1010566  1.000000  0.082138  0.000054  0.079212  0.750660  0.082023  0.082214   \n",
       "1145986  0.853393  0.076770  0.000051  0.074089  0.828299  0.076696  0.076846   \n",
       "825438   0.762522  0.069463  0.000048  0.067462  0.935648  0.069396  0.069742   \n",
       "916369   0.761851  0.067973  0.000047  0.065717  0.915409  0.067816  0.067542   \n",
       "1139419  0.759513  0.065588  0.000048  0.064617  0.941152  0.065415  0.065788   \n",
       "\n",
       "          1037728   1040710   1044362  ...    916369    946628    980179  \\\n",
       "1010566  0.082838  0.081585  0.080421  ...  0.761851  0.000040  0.081711   \n",
       "1145986  0.077480  0.076189  0.075368  ...  0.805985  0.000039  0.076377   \n",
       "825438   0.070042  0.068992  0.068353  ...  0.919476  0.000035  0.069094   \n",
       "916369   0.068411  0.067463  0.066781  ...  1.000000  0.000033  0.067501   \n",
       "1139419  0.066093  0.065052  0.064534  ...  0.920498  0.000034  0.065123   \n",
       "\n",
       "           981655    985162    986082    986097    986453    986596    991397  \n",
       "1010566  0.663153  0.752876  0.012436  0.752543  0.655649  0.753154  0.084068  \n",
       "1145986  0.731620  0.833589  0.011705  0.823953  0.733165  0.828601  0.079177  \n",
       "825438   0.819480  0.946632  0.012908  0.949847  0.816957  0.937065  0.071684  \n",
       "916369   0.820737  0.932999  0.012742  0.914013  0.804292  0.931345  0.070233  \n",
       "1139419  0.823936  0.947120  0.013169  0.927534  0.802456  0.951243  0.067380  \n",
       "\n",
       "[5 rows x 92 columns]"
      ]
     },
     "execution_count": 108,
     "metadata": {},
     "output_type": "execute_result"
    }
   ],
   "source": [
    "mapped_distances_df.sort_values(by=['1010566'], ascending=False, inplace=True)\n",
    "mapped_distances_df = mapped_distances_df[mapped_distances_df.index]\n"
   ]
  },
  {
   "cell_type": "code",
   "execution_count": 121,
   "metadata": {
    "ExecuteTime": {
     "end_time": "2020-04-23T18:37:22.795282Z",
     "start_time": "2020-04-23T18:37:20.705847Z"
    }
   },
   "outputs": [
    {
     "data": {
      "image/png": "[encoded data removed]",
      "text/plain": [
       "<Figure size 1440x1440 with 2 Axes>"
      ]
     },
     "metadata": {},
     "output_type": "display_data"
    }
   ],
   "source": [
    "plt.figure(figsize=(20, 20))\n",
    "ax = sns.heatmap(mapped_distances_df, cmap='coolwarm', linewidths=0.01)"
   ]
  },
  {
   "cell_type": "markdown",
   "metadata": {
    "ExecuteTime": {
     "end_time": "2020-04-16T17:09:39.001984Z",
     "start_time": "2020-04-16T17:09:38.989950Z"
    }
   },
   "source": [
    "## 5. Bibliography\n",
    "\n",
    "Siamese-LSTM. Sang-Kil Park. [Available at](https://github.com/likejazz/Siamese-LSTM) Last visited: 17/04/2020\n"
   ]
  },
  {
   "cell_type": "code",
   "execution_count": null,
   "metadata": {},
   "outputs": [],
   "source": []
  }
 ],
 "metadata": {
  "kernelspec": {
   "display_name": "Python 3",
   "language": "python",
   "name": "python3"
  },
  "language_info": {
   "codemirror_mode": {
    "name": "ipython",
    "version": 3
   },
   "file_extension": ".py",
   "mimetype": "text/x-python",
   "name": "python",
   "nbconvert_exporter": "python",
   "pygments_lexer": "ipython3",
   "version": "3.6.9"
  },
  "varInspector": {
   "cols": {
    "lenName": 16,
    "lenType": 16,
    "lenVar": 40
   },
   "kernels_config": {
    "python": {
     "delete_cmd_postfix": "",
     "delete_cmd_prefix": "del ",
     "library": "var_list.py",
     "varRefreshCmd": "print(var_dic_list())"
    },
    "r": {
     "delete_cmd_postfix": ") ",
     "delete_cmd_prefix": "rm(",
     "library": "var_list.r",
     "varRefreshCmd": "cat(var_dic_list()) "
    }
   },
   "types_to_exclude": [
    "module",
    "function",
    "builtin_function_or_method",
    "instance",
    "_Feature"
   ],
   "window_display": false
  }
 },
 "nbformat": 4,
 "nbformat_minor": 4
}
