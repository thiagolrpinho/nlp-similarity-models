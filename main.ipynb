{
 "cells": [
  {
   "cell_type": "markdown",
   "metadata": {},
   "source": [
    "# About\n",
    "### Author:\n",
    "    Thiago Luis Rodrigues Pinho @AILAB \n",
    "### Start Date:\n",
    "    17/04/2020\n",
    "### Objectives:\n",
    "    Train a Siamese Manhattan Long Short-Term Memory and use it to evaluate text similarity for ALEI project\n",
    "### Summary:\n",
    "    1. Loading Data\n",
    "        1.1 Sampling Data\n",
    "    2. Treating Data\n",
    "        2.1 Creating Text Pairs\n",
    "        2.2 Embedding Text Pairs To Matrixes\n",
    "    3. Training Siamese ManLSTM\n",
    "        3.1 Creating and training model\n",
    "        3.2 Evaluting the optimal number of clusters\n",
    "    4. Predicting\n",
    "        4.1 Finding the most similar text\n",
    "    5. Bibliography\n",
    "    "
   ]
  },
  {
   "cell_type": "markdown",
   "metadata": {
    "ExecuteTime": {
     "end_time": "2020-04-14T18:21:06.284091Z",
     "start_time": "2020-04-14T18:21:06.276414Z"
    }
   },
   "source": [
    "# [ALEI] IAgrupador com Siamese Manhattan LSTM (MaLSTM)"
   ]
  },
  {
   "cell_type": "code",
   "execution_count": 1,
   "metadata": {
    "ExecuteTime": {
     "end_time": "2020-04-22T20:14:20.987495Z",
     "start_time": "2020-04-22T20:14:02.373572Z"
    }
   },
   "outputs": [
    {
     "name": "stderr",
     "output_type": "stream",
     "text": [
      "unable to import 'smart_open.gcs', disabling that module\n"
     ]
    }
   ],
   "source": [
    "from time import time\n",
    "\n",
    "import spacy\n",
    "from spacy.lang.pt.stop_words import STOP_WORDS\n",
    "from sklearn.decomposition import PCA, TruncatedSVD\n",
    "from sklearn.feature_extraction.text import CountVectorizer, TfidfTransformer\n",
    "from sklearn.pipeline import Pipeline\n",
    "from sklearn.cluster import KMeans\n",
    "from sklearn.model_selection import train_test_split\n",
    "from fastparquet import write\n",
    "import pandas as pd\n",
    "import numpy as np\n",
    "import matplotlib.pyplot as plt\n",
    "import tensorflow as tf\n",
    "from tensorflow.python.keras.models import Model, Sequential, load_model\n",
    "from tensorflow.python.keras.layers import Input, Embedding, LSTM, GRU, Conv1D, Conv2D, GlobalMaxPool1D, Dense, Dropout\n",
    "\n",
    "from util import make_w2v_embeddings\n",
    "from util import split_and_zero_padding\n",
    "from util import ManDist\n",
    "%matplotlib inline\n",
    "plt.style.use('fivethirtyeight')"
   ]
  },
  {
   "cell_type": "markdown",
   "metadata": {},
   "source": [
    "## 1. Loading data"
   ]
  },
  {
   "cell_type": "code",
   "execution_count": 6,
   "metadata": {
    "ExecuteTime": {
     "end_time": "2020-04-22T20:48:05.880625Z",
     "start_time": "2020-04-22T20:48:00.947637Z"
    },
    "scrolled": true
   },
   "outputs": [
    {
     "name": "stdout",
     "output_type": "stream",
     "text": [
      "<class 'pandas.core.frame.DataFrame'>\n",
      "RangeIndex: 2036 entries, 0 to 2035\n",
      "Data columns (total 3 columns):\n",
      " #   Column         Non-Null Count  Dtype \n",
      "---  ------         --------------  ----- \n",
      " 0   process_class  2036 non-null   object\n",
      " 1   text           2036 non-null   object\n",
      " 2   process_id     2036 non-null   object\n",
      "dtypes: object(3)\n",
      "memory usage: 47.8+ KB\n",
      "None\n",
      "CPU times: user 4.69 s, sys: 216 ms, total: 4.91 s\n",
      "Wall time: 4.93 s\n"
     ]
    }
   ],
   "source": [
    "%%time \n",
    "RELATIVE_FOLDER_PATH = \"./data/\"\n",
    "VECTOR_MODEL_NAME = \"pt_core_news_sm\"\n",
    "NLP_SPACY = spacy.load(VECTOR_MODEL_NAME)\n",
    "filename = \"data_preprocessed\"\n",
    "stopwords_set = set(STOP_WORDS)\n",
    "\n",
    "parquet_filename = RELATIVE_FOLDER_PATH + filename + \".parquet.gzip\"\n",
    "ailab_df = pd.read_parquet(parquet_filename, columns=['process_class', 'text', 'process_id'])\n",
    "print(ailab_df.info())"
   ]
  },
  {
   "cell_type": "markdown",
   "metadata": {},
   "source": [
    "## 2. Treating Data"
   ]
  },
  {
   "cell_type": "code",
   "execution_count": 7,
   "metadata": {
    "ExecuteTime": {
     "end_time": "2020-04-22T20:48:08.417307Z",
     "start_time": "2020-04-22T20:48:08.393909Z"
    }
   },
   "outputs": [
    {
     "name": "stdout",
     "output_type": "stream",
     "text": [
      "<class 'pandas.core.frame.DataFrame'>\n",
      "Int64Index: 50 entries, 1389 to 1307\n",
      "Data columns (total 3 columns):\n",
      " #   Column         Non-Null Count  Dtype \n",
      "---  ------         --------------  ----- \n",
      " 0   process_class  50 non-null     object\n",
      " 1   text           50 non-null     object\n",
      " 2   process_id     50 non-null     object\n",
      "dtypes: object(3)\n",
      "memory usage: 1.6+ KB\n",
      "None\n"
     ]
    }
   ],
   "source": [
    "num_samples = 50\n",
    "sample_df = ailab_df.sample(n=num_samples)\n",
    "print(sample_df.info())"
   ]
  },
  {
   "cell_type": "markdown",
   "metadata": {},
   "source": [
    "### 2.1 Creating Text Pairs\n",
    "It's necessary to prepare data so each input is a pair os texts and if they are close"
   ]
  },
  {
   "cell_type": "code",
   "execution_count": 8,
   "metadata": {
    "ExecuteTime": {
     "end_time": "2020-04-22T20:48:11.740143Z",
     "start_time": "2020-04-22T20:48:11.346233Z"
    },
    "scrolled": false
   },
   "outputs": [
    {
     "name": "stdout",
     "output_type": "stream",
     "text": [
      "CPU times: user 4 µs, sys: 0 ns, total: 4 µs\n",
      "Wall time: 7.87 µs\n",
      "<class 'pandas.core.frame.DataFrame'>\n",
      "RangeIndex: 2450 entries, 0 to 2449\n",
      "Data columns (total 5 columns):\n",
      " #   Column        Non-Null Count  Dtype \n",
      "---  ------        --------------  ----- \n",
      " 0   question1_id  2450 non-null   object\n",
      " 1   question1     2450 non-null   object\n",
      " 2   question2_id  2450 non-null   object\n",
      " 3   question2     2450 non-null   object\n",
      " 4   is_duplicate  2450 non-null   bool  \n",
      "dtypes: bool(1), object(4)\n",
      "memory usage: 79.1+ KB\n",
      "None\n"
     ]
    }
   ],
   "source": [
    "%time\n",
    "text_pairs = []\n",
    "for question_1_index, question_1_row in sample_df.iterrows():\n",
    "    question_1_text = question_1_row['text']\n",
    "    question_1_id = question_1_row['process_id']\n",
    "    question_1_class = question_1_row['process_class']\n",
    "    for question_2_index, question_2_row in sample_df.iterrows():\n",
    "        if question_1_index == question_2_index:\n",
    "            continue\n",
    "        question_2_text = question_2_row['text']\n",
    "        question_2_id = question_2_row['process_id']\n",
    "        question_2_class = question_2_row['process_class']\n",
    "        is_same_class = question_1_class == question_2_class\n",
    "        text_pairs.append([question_1_id, question_1_text, question_2_id, question_2_text, is_same_class])\n",
    "\n",
    "train_df = pd.DataFrame(text_pairs, columns=['question1_id', 'question1', 'question2_id', 'question2', 'is_duplicate'])\n",
    "print(train_df.info())"
   ]
  },
  {
   "cell_type": "markdown",
   "metadata": {},
   "source": [
    "#### Storing partial results"
   ]
  },
  {
   "cell_type": "code",
   "execution_count": 9,
   "metadata": {
    "ExecuteTime": {
     "end_time": "2020-04-22T20:48:21.778710Z",
     "start_time": "2020-04-22T20:48:21.772116Z"
    }
   },
   "outputs": [],
   "source": [
    "pair_text_filename = \"text_pairs\" + str(num_samples)\n",
    "pair_text_parquet_filename = RELATIVE_FOLDER_PATH + pair_text_filename + \".parquet.gzip\""
   ]
  },
  {
   "cell_type": "code",
   "execution_count": 10,
   "metadata": {
    "ExecuteTime": {
     "end_time": "2020-04-22T20:48:24.065778Z",
     "start_time": "2020-04-22T20:48:21.781758Z"
    }
   },
   "outputs": [],
   "source": [
    "write(pair_text_parquet_filename, train_df, compression='gzip')"
   ]
  },
  {
   "cell_type": "markdown",
   "metadata": {},
   "source": [
    "#### Loading partial results"
   ]
  },
  {
   "cell_type": "code",
   "execution_count": 11,
   "metadata": {
    "ExecuteTime": {
     "end_time": "2020-04-22T20:48:24.622988Z",
     "start_time": "2020-04-22T20:48:24.067334Z"
    },
    "scrolled": false
   },
   "outputs": [
    {
     "name": "stdout",
     "output_type": "stream",
     "text": [
      "  question1_id                                          question1  \\\n",
      "0      1017001  documento recebido eletronicamente origem estj...   \n",
      "1      1017001  documento recebido eletronicamente origem estj...   \n",
      "2      1017001  documento recebido eletronicamente origem estj...   \n",
      "3      1017001  documento recebido eletronicamente origem estj...   \n",
      "4      1017001  documento recebido eletronicamente origem estj...   \n",
      "\n",
      "  question2_id                                          question2  \\\n",
      "0      1123769  procuradoriageral municipio jose preto termos ...   \n",
      "1      1074289  ruedasrueda ementa processo civil embargos dec...   \n",
      "2       787966  pagina separacao gerada automaticamente regist...   \n",
      "3      1084106  administrativo expurgos inflacionarios pispase...   \n",
      "4      1112546  preconiza afastar base calculo piscofins monta...   \n",
      "\n",
      "   is_duplicate  \n",
      "0          True  \n",
      "1          True  \n",
      "2          True  \n",
      "3         False  \n",
      "4         False  \n"
     ]
    }
   ],
   "source": [
    "pair_text_df = pd.read_parquet(pair_text_parquet_filename)\n",
    "print(pair_text_df.head())"
   ]
  },
  {
   "cell_type": "markdown",
   "metadata": {},
   "source": [
    "### 2.2 Embedding Text Pairs To Matrixes"
   ]
  },
  {
   "cell_type": "code",
   "execution_count": 12,
   "metadata": {
    "ExecuteTime": {
     "end_time": "2020-04-22T20:51:10.140531Z",
     "start_time": "2020-04-22T20:48:24.626175Z"
    }
   },
   "outputs": [
    {
     "name": "stdout",
     "output_type": "stream",
     "text": [
      "CPU times: user 5 µs, sys: 1 µs, total: 6 µs\n",
      "Wall time: 11.2 µs\n",
      "Loading word2vec model(it may takes 2-3 mins) ...\n",
      "1,000 sentences embedded.\n",
      "2,000 sentences embedded.\n"
     ]
    }
   ],
   "source": [
    "%time\n",
    "for q in ['question1', 'question2']:\n",
    "    pair_text_df[q + '_n'] = pair_text_df[q]\n",
    "\n",
    "# Make word2vec embeddings\n",
    "embedding_dim = 300\n",
    "max_seq_length = 40\n",
    "use_w2v = True\n",
    "\n",
    "pair_text_df, embeddings = make_w2v_embeddings(pair_text_df, embedding_dim=embedding_dim, empty_w2v=not use_w2v)"
   ]
  },
  {
   "cell_type": "markdown",
   "metadata": {},
   "source": [
    "#### Storing partial results"
   ]
  },
  {
   "cell_type": "code",
   "execution_count": 13,
   "metadata": {
    "ExecuteTime": {
     "end_time": "2020-04-22T20:51:10.148396Z",
     "start_time": "2020-04-22T20:51:10.141781Z"
    }
   },
   "outputs": [],
   "source": [
    "embedded_pairs_filename = \"embedded_pairs\" + str(num_samples)\n",
    "embedding_filename = 'embeddings' + str(num_samples)\n",
    "embedded_pairs_parquet_filename = RELATIVE_FOLDER_PATH + embedded_pairs_filename + \".parquet.gzip\"\n",
    "embedding_npy_filename = RELATIVE_FOLDER_PATH + embedded_pairs_filename + \".npy\""
   ]
  },
  {
   "cell_type": "code",
   "execution_count": 14,
   "metadata": {
    "ExecuteTime": {
     "end_time": "2020-04-22T20:51:13.946569Z",
     "start_time": "2020-04-22T20:51:10.151076Z"
    }
   },
   "outputs": [],
   "source": [
    "write(embedded_pairs_parquet_filename, pair_text_df, compression='gzip')\n",
    "np.save(embedding_npy_filename, embeddings)"
   ]
  },
  {
   "cell_type": "markdown",
   "metadata": {},
   "source": [
    "#### Loading partial results"
   ]
  },
  {
   "cell_type": "code",
   "execution_count": 15,
   "metadata": {
    "ExecuteTime": {
     "end_time": "2020-04-22T20:51:14.922602Z",
     "start_time": "2020-04-22T20:51:13.948877Z"
    }
   },
   "outputs": [
    {
     "name": "stdout",
     "output_type": "stream",
     "text": [
      "<class 'pandas.core.frame.DataFrame'>\n",
      "RangeIndex: 2450 entries, 0 to 2449\n",
      "Data columns (total 7 columns):\n",
      " #   Column        Non-Null Count  Dtype \n",
      "---  ------        --------------  ----- \n",
      " 0   question1_id  2450 non-null   object\n",
      " 1   question1     2450 non-null   object\n",
      " 2   question2_id  2450 non-null   object\n",
      " 3   question2     2450 non-null   object\n",
      " 4   is_duplicate  2450 non-null   bool  \n",
      " 5   question1_n   2450 non-null   object\n",
      " 6   question2_n   2450 non-null   object\n",
      "dtypes: bool(1), object(6)\n",
      "memory usage: 117.4+ KB\n",
      "None\n",
      "[[ 0.          0.          0.         ...  0.          0.\n",
      "   0.        ]\n",
      " [-0.01452637 -0.03979492  0.0859375  ... -0.16015625  0.02270508\n",
      "   0.13378906]\n",
      " [ 1.30796685 -0.32387424 -0.46084142 ... -1.16602771  0.24141987\n",
      "  -1.8846314 ]\n",
      " ...\n",
      " [-0.12192141  0.44027617 -0.74862669 ...  0.23740468  0.1766415\n",
      "   0.84502921]\n",
      " [-1.54479717 -0.17545242  1.4530768  ...  0.73782371 -0.83230884\n",
      "  -0.17159602]\n",
      " [-0.99570044 -0.67538821 -0.32064446 ...  0.09323541  1.8723181\n",
      "  -0.64258771]]\n"
     ]
    }
   ],
   "source": [
    "embedded_pairs_df = pd.read_parquet(embedded_pairs_parquet_filename)\n",
    "embeddings = np.load(embedding_npy_filename)\n",
    "print(embedded_pairs_df.info())\n",
    "print(embeddings)"
   ]
  },
  {
   "cell_type": "markdown",
   "metadata": {},
   "source": [
    "#### Spliting Testind and Prediction Data"
   ]
  },
  {
   "cell_type": "code",
   "execution_count": 16,
   "metadata": {
    "ExecuteTime": {
     "end_time": "2020-04-22T20:51:14.953685Z",
     "start_time": "2020-04-22T20:51:14.924897Z"
    }
   },
   "outputs": [
    {
     "name": "stdout",
     "output_type": "stream",
     "text": [
      "<class 'pandas.core.frame.DataFrame'>\n",
      "Int64Index: 490 entries, 342 to 173\n",
      "Data columns (total 7 columns):\n",
      " #   Column        Non-Null Count  Dtype \n",
      "---  ------        --------------  ----- \n",
      " 0   question1_id  490 non-null    object\n",
      " 1   question1     490 non-null    object\n",
      " 2   question2_id  490 non-null    object\n",
      " 3   question2     490 non-null    object\n",
      " 4   is_duplicate  490 non-null    bool  \n",
      " 5   question1_n   490 non-null    object\n",
      " 6   question2_n   490 non-null    object\n",
      "dtypes: bool(1), object(6)\n",
      "memory usage: 27.3+ KB\n",
      "None\n"
     ]
    }
   ],
   "source": [
    "test_size = int(len(pair_text_df) * 0.2)\n",
    "train_df, test_df = train_test_split(embedded_pairs_df, test_size=test_size)\n",
    "print(test_df.info())"
   ]
  },
  {
   "cell_type": "markdown",
   "metadata": {},
   "source": [
    "## 3. Training Siamese ManLSTM"
   ]
  },
  {
   "cell_type": "code",
   "execution_count": 17,
   "metadata": {
    "ExecuteTime": {
     "end_time": "2020-04-22T20:51:15.164778Z",
     "start_time": "2020-04-22T20:51:14.956331Z"
    },
    "scrolled": false
   },
   "outputs": [],
   "source": [
    "# Split to train validation\n",
    "validation_size = int(len(train_df) * 0.2)\n",
    "training_size = len(train_df) - validation_size\n",
    "\n",
    "X = train_df[['question1_n', 'question2_n']]\n",
    "Y = train_df['is_duplicate']\n",
    "\n",
    "X_train, X_validation, Y_train, Y_validation = train_test_split(X, Y, test_size=validation_size)\n",
    "\n",
    "X_train = split_and_zero_padding(X_train, max_seq_length)\n",
    "X_validation = split_and_zero_padding(X_validation, max_seq_length)\n",
    "\n",
    "# Convert labels to their numpy representations\n",
    "Y_train = Y_train.values\n",
    "Y_validation = Y_validation.values\n",
    "\n",
    "# Make sure everything is ok\n",
    "assert X_train['left'].shape == X_train['right'].shape\n",
    "assert len(X_train['left']) == len(Y_train)"
   ]
  },
  {
   "cell_type": "markdown",
   "metadata": {},
   "source": [
    "### 3.1 Creating and training model"
   ]
  },
  {
   "cell_type": "code",
   "execution_count": 18,
   "metadata": {
    "ExecuteTime": {
     "end_time": "2020-04-22T20:52:10.238217Z",
     "start_time": "2020-04-22T20:51:15.167098Z"
    },
    "scrolled": false
   },
   "outputs": [
    {
     "name": "stdout",
     "output_type": "stream",
     "text": [
      "CPU times: user 4 µs, sys: 0 ns, total: 4 µs\n",
      "Wall time: 7.87 µs\n",
      "WARNING:tensorflow:From /home/dev/PythonEnviroments/ailab-researching/lib/python3.6/site-packages/tensorflow_core/python/keras/initializers.py:119: calling RandomUniform.__init__ (from tensorflow.python.ops.init_ops) with dtype is deprecated and will be removed in a future version.\n",
      "Instructions for updating:\n",
      "Call initializer instance with the dtype argument instead of passing it to the constructor\n",
      "WARNING:tensorflow:From /home/dev/PythonEnviroments/ailab-researching/lib/python3.6/site-packages/tensorflow_core/python/ops/resource_variable_ops.py:1630: calling BaseResourceVariable.__init__ (from tensorflow.python.ops.resource_variable_ops) with constraint is deprecated and will be removed in a future version.\n",
      "Instructions for updating:\n",
      "If using Keras pass *_constraint arguments to layers.\n",
      "Model: \"model\"\n",
      "__________________________________________________________________________________________________\n",
      "Layer (type)                    Output Shape         Param #     Connected to                     \n",
      "==================================================================================================\n",
      "input_1 (InputLayer)            [(None, 40)]         0                                            \n",
      "__________________________________________________________________________________________________\n",
      "input_2 (InputLayer)            [(None, 40)]         0                                            \n",
      "__________________________________________________________________________________________________\n",
      "sequential (Sequential)         (None, 50)           2725200     input_1[0][0]                    \n",
      "                                                                 input_2[0][0]                    \n",
      "__________________________________________________________________________________________________\n",
      "man_dist (ManDist)              (None, 1)            0           sequential[1][0]                 \n",
      "                                                                 sequential[2][0]                 \n",
      "==================================================================================================\n",
      "Total params: 2,725,200\n",
      "Trainable params: 70,200\n",
      "Non-trainable params: 2,655,000\n",
      "__________________________________________________________________________________________________\n",
      "Model: \"sequential\"\n",
      "_________________________________________________________________\n",
      "Layer (type)                 Output Shape              Param #   \n",
      "=================================================================\n",
      "embedding (Embedding)        (None, 40, 300)           2655000   \n",
      "_________________________________________________________________\n",
      "lstm (LSTM)                  (None, 50)                70200     \n",
      "=================================================================\n",
      "Total params: 2,725,200\n",
      "Trainable params: 70,200\n",
      "Non-trainable params: 2,655,000\n",
      "_________________________________________________________________\n",
      "WARNING:tensorflow:From /home/dev/PythonEnviroments/ailab-researching/lib/python3.6/site-packages/tensorflow_core/python/ops/math_grad.py:1424: where (from tensorflow.python.ops.array_ops) is deprecated and will be removed in a future version.\n",
      "Instructions for updating:\n",
      "Use tf.where in 2.0, which has the same broadcast rule as np.where\n",
      "Train on 1568 samples, validate on 392 samples\n",
      "Epoch 1/50\n",
      "1568/1568 [==============================] - 3s 2ms/sample - loss: 0.4976 - acc: 0.5013 - val_loss: 0.4389 - val_acc: 0.5561\n",
      "Epoch 2/50\n",
      "1568/1568 [==============================] - 1s 626us/sample - loss: 0.4965 - acc: 0.5013 - val_loss: 0.4372 - val_acc: 0.5587\n",
      "Epoch 3/50\n",
      "1568/1568 [==============================] - 1s 580us/sample - loss: 0.4954 - acc: 0.5026 - val_loss: 0.4359 - val_acc: 0.5612\n",
      "Epoch 4/50\n",
      "1568/1568 [==============================] - 1s 697us/sample - loss: 0.4944 - acc: 0.5026 - val_loss: 0.4343 - val_acc: 0.5638\n",
      "Epoch 5/50\n",
      "1568/1568 [==============================] - 1s 778us/sample - loss: 0.4931 - acc: 0.5045 - val_loss: 0.4325 - val_acc: 0.5638\n",
      "Epoch 6/50\n",
      "1568/1568 [==============================] - 1s 611us/sample - loss: 0.4915 - acc: 0.5045 - val_loss: 0.4306 - val_acc: 0.5638\n",
      "Epoch 7/50\n",
      "1568/1568 [==============================] - 1s 611us/sample - loss: 0.4895 - acc: 0.5051 - val_loss: 0.4282 - val_acc: 0.5638\n",
      "Epoch 8/50\n",
      "1568/1568 [==============================] - 1s 600us/sample - loss: 0.4864 - acc: 0.5051 - val_loss: 0.4253 - val_acc: 0.5638\n",
      "Epoch 9/50\n",
      "1568/1568 [==============================] - 1s 604us/sample - loss: 0.4829 - acc: 0.5057 - val_loss: 0.4221 - val_acc: 0.5663\n",
      "Epoch 10/50\n",
      "1568/1568 [==============================] - 1s 578us/sample - loss: 0.4786 - acc: 0.5070 - val_loss: 0.4179 - val_acc: 0.5689\n",
      "Epoch 11/50\n",
      "1568/1568 [==============================] - 1s 576us/sample - loss: 0.4739 - acc: 0.5102 - val_loss: 0.4127 - val_acc: 0.5714\n",
      "Epoch 12/50\n",
      "1568/1568 [==============================] - 1s 595us/sample - loss: 0.4682 - acc: 0.5115 - val_loss: 0.4066 - val_acc: 0.5714\n",
      "Epoch 13/50\n",
      "1568/1568 [==============================] - 1s 564us/sample - loss: 0.4616 - acc: 0.5134 - val_loss: 0.4015 - val_acc: 0.5765\n",
      "Epoch 14/50\n",
      "1568/1568 [==============================] - 1s 610us/sample - loss: 0.4552 - acc: 0.5223 - val_loss: 0.3949 - val_acc: 0.5816\n",
      "Epoch 15/50\n",
      "1568/1568 [==============================] - 1s 555us/sample - loss: 0.4487 - acc: 0.5293 - val_loss: 0.3897 - val_acc: 0.6020\n",
      "Epoch 16/50\n",
      "1568/1568 [==============================] - 1s 595us/sample - loss: 0.4431 - acc: 0.5383 - val_loss: 0.3849 - val_acc: 0.6071\n",
      "Epoch 17/50\n",
      "1568/1568 [==============================] - 1s 564us/sample - loss: 0.4379 - acc: 0.5542 - val_loss: 0.3798 - val_acc: 0.6148\n",
      "Epoch 18/50\n",
      "1568/1568 [==============================] - 1s 595us/sample - loss: 0.4334 - acc: 0.5619 - val_loss: 0.3751 - val_acc: 0.6148\n",
      "Epoch 19/50\n",
      "1568/1568 [==============================] - 1s 557us/sample - loss: 0.4294 - acc: 0.5682 - val_loss: 0.3714 - val_acc: 0.6148\n",
      "Epoch 20/50\n",
      "1568/1568 [==============================] - 1s 597us/sample - loss: 0.4257 - acc: 0.5689 - val_loss: 0.3672 - val_acc: 0.6148\n",
      "Epoch 21/50\n",
      "1568/1568 [==============================] - 1s 584us/sample - loss: 0.4215 - acc: 0.5689 - val_loss: 0.3629 - val_acc: 0.6148\n",
      "Epoch 22/50\n",
      "1568/1568 [==============================] - 1s 574us/sample - loss: 0.4171 - acc: 0.5689 - val_loss: 0.3592 - val_acc: 0.6199\n",
      "Epoch 23/50\n",
      "1568/1568 [==============================] - 1s 605us/sample - loss: 0.4131 - acc: 0.5746 - val_loss: 0.3546 - val_acc: 0.6378\n",
      "Epoch 24/50\n",
      "1568/1568 [==============================] - 1s 565us/sample - loss: 0.4065 - acc: 0.5835 - val_loss: 0.3495 - val_acc: 0.6403\n",
      "Epoch 25/50\n",
      "1568/1568 [==============================] - 1s 600us/sample - loss: 0.3999 - acc: 0.5829 - val_loss: 0.3451 - val_acc: 0.6505\n",
      "Epoch 26/50\n",
      "1568/1568 [==============================] - 1s 589us/sample - loss: 0.3947 - acc: 0.6033 - val_loss: 0.3422 - val_acc: 0.6531\n",
      "Epoch 27/50\n",
      "1568/1568 [==============================] - 1s 659us/sample - loss: 0.3918 - acc: 0.6071 - val_loss: 0.3387 - val_acc: 0.6556\n",
      "Epoch 28/50\n",
      "1568/1568 [==============================] - 1s 607us/sample - loss: 0.3881 - acc: 0.6097 - val_loss: 0.3337 - val_acc: 0.6607\n",
      "Epoch 29/50\n",
      "1568/1568 [==============================] - 1s 639us/sample - loss: 0.3833 - acc: 0.6116 - val_loss: 0.3278 - val_acc: 0.6607\n",
      "Epoch 30/50\n",
      "1568/1568 [==============================] - 1s 610us/sample - loss: 0.3770 - acc: 0.6103 - val_loss: 0.3217 - val_acc: 0.6811\n",
      "Epoch 31/50\n",
      "1568/1568 [==============================] - 1s 644us/sample - loss: 0.3724 - acc: 0.6237 - val_loss: 0.3191 - val_acc: 0.6786\n",
      "Epoch 32/50\n",
      "1568/1568 [==============================] - 1s 604us/sample - loss: 0.3685 - acc: 0.6231 - val_loss: 0.3129 - val_acc: 0.6913\n",
      "Epoch 33/50\n",
      "1568/1568 [==============================] - 1s 644us/sample - loss: 0.3624 - acc: 0.6384 - val_loss: 0.3084 - val_acc: 0.6913\n",
      "Epoch 34/50\n",
      "1568/1568 [==============================] - 1s 612us/sample - loss: 0.3572 - acc: 0.6365 - val_loss: 0.3022 - val_acc: 0.6913\n",
      "Epoch 35/50\n",
      "1568/1568 [==============================] - 1s 639us/sample - loss: 0.3513 - acc: 0.6384 - val_loss: 0.2983 - val_acc: 0.6913\n"
     ]
    },
    {
     "name": "stdout",
     "output_type": "stream",
     "text": [
      "Epoch 36/50\n",
      "1568/1568 [==============================] - 1s 612us/sample - loss: 0.3466 - acc: 0.6384 - val_loss: 0.2934 - val_acc: 0.6990\n",
      "Epoch 37/50\n",
      "1568/1568 [==============================] - 1s 649us/sample - loss: 0.3402 - acc: 0.6480 - val_loss: 0.2887 - val_acc: 0.7066\n",
      "Epoch 38/50\n",
      "1568/1568 [==============================] - 1s 600us/sample - loss: 0.3340 - acc: 0.6492 - val_loss: 0.2814 - val_acc: 0.7219\n",
      "Epoch 39/50\n",
      "1568/1568 [==============================] - 1s 650us/sample - loss: 0.3243 - acc: 0.6747 - val_loss: 0.2758 - val_acc: 0.7219\n",
      "Epoch 40/50\n",
      "1568/1568 [==============================] - 1s 602us/sample - loss: 0.3192 - acc: 0.6824 - val_loss: 0.2726 - val_acc: 0.7398\n",
      "Epoch 41/50\n",
      "1568/1568 [==============================] - 1s 736us/sample - loss: 0.3154 - acc: 0.6920 - val_loss: 0.2696 - val_acc: 0.7398\n",
      "Epoch 42/50\n",
      "1568/1568 [==============================] - 1s 854us/sample - loss: 0.3123 - acc: 0.6958 - val_loss: 0.2686 - val_acc: 0.7398\n",
      "Epoch 43/50\n",
      "1568/1568 [==============================] - 1s 644us/sample - loss: 0.3106 - acc: 0.6958 - val_loss: 0.2681 - val_acc: 0.7398\n",
      "Epoch 44/50\n",
      "1568/1568 [==============================] - 1s 605us/sample - loss: 0.3094 - acc: 0.6958 - val_loss: 0.2668 - val_acc: 0.7398\n",
      "Epoch 45/50\n",
      "1568/1568 [==============================] - 1s 636us/sample - loss: 0.3071 - acc: 0.6958 - val_loss: 0.2651 - val_acc: 0.7398\n",
      "Epoch 46/50\n",
      "1568/1568 [==============================] - 1s 606us/sample - loss: 0.3054 - acc: 0.6958 - val_loss: 0.2635 - val_acc: 0.7398\n",
      "Epoch 47/50\n",
      "1568/1568 [==============================] - 1s 646us/sample - loss: 0.3033 - acc: 0.6958 - val_loss: 0.2614 - val_acc: 0.7398\n",
      "Epoch 48/50\n",
      "1568/1568 [==============================] - 1s 606us/sample - loss: 0.3011 - acc: 0.6958 - val_loss: 0.2597 - val_acc: 0.7398\n",
      "Epoch 49/50\n",
      "1568/1568 [==============================] - 1s 637us/sample - loss: 0.2991 - acc: 0.6958 - val_loss: 0.2576 - val_acc: 0.7398\n",
      "Epoch 50/50\n",
      "1568/1568 [==============================] - 1s 609us/sample - loss: 0.2970 - acc: 0.6958 - val_loss: 0.2557 - val_acc: 0.7474\n",
      "Training time finished.\n",
      "50 epochs in        52.55\n"
     ]
    }
   ],
   "source": [
    "%time\n",
    "# Model variables\n",
    "gpus = 1\n",
    "batch_size = 1024 * gpus\n",
    "n_epoch = 50\n",
    "n_hidden = 50\n",
    "\n",
    "# Define the shared model\n",
    "x = Sequential()\n",
    "x.add(Embedding(len(embeddings), embedding_dim,\n",
    "                weights=[embeddings], input_shape=(max_seq_length,), trainable=False))\n",
    "# CNN\n",
    "# x.add(Conv1D(250, kernel_size=5, activation='relu'))\n",
    "# x.add(GlobalMaxPool1D())\n",
    "# x.add(Dense(250, activation='relu'))\n",
    "# x.add(Dropout(0.3))\n",
    "# x.add(Dense(1, activation='sigmoid'))\n",
    "# LSTM\n",
    "x.add(LSTM(n_hidden))\n",
    "\n",
    "shared_model = x\n",
    "\n",
    "# The visible layer\n",
    "left_input = Input(shape=(max_seq_length,), dtype='int32')\n",
    "right_input = Input(shape=(max_seq_length,), dtype='int32')\n",
    "\n",
    "# Pack it all up into a Manhattan Distance model\n",
    "malstm_distance = ManDist()([shared_model(left_input), shared_model(right_input)])\n",
    "model = Model(inputs=[left_input, right_input], outputs=[malstm_distance])\n",
    "\n",
    "if gpus >= 2:\n",
    "    # `multi_gpu_model()` is a so quite buggy. it breaks the saved model.\n",
    "    model = tf.keras.utils.multi_gpu_model(model, gpus=gpus)\n",
    "model.compile(loss='mean_squared_error', optimizer=tf.keras.optimizers.Adam(), metrics=['accuracy'])\n",
    "model.summary()\n",
    "shared_model.summary()\n",
    "\n",
    "# Start trainings\n",
    "training_start_time = time()\n",
    "malstm_trained = model.fit([X_train['left'], X_train['right']], Y_train,\n",
    "                           batch_size=batch_size, epochs=n_epoch,\n",
    "                           validation_data=([X_validation['left'], X_validation['right']], Y_validation))\n",
    "training_end_time = time()\n",
    "print(\"Training time finished.\\n%d epochs in %12.2f\" % (n_epoch,\n",
    "                                                        training_end_time - training_start_time))\n",
    "\n",
    "model.save('./data/SiameseLSTM_' + str(num_samples) + '.h5')"
   ]
  },
  {
   "cell_type": "markdown",
   "metadata": {},
   "source": [
    "## 3.3 Evaluating the model"
   ]
  },
  {
   "cell_type": "code",
   "execution_count": 19,
   "metadata": {
    "ExecuteTime": {
     "end_time": "2020-04-22T20:52:10.785693Z",
     "start_time": "2020-04-22T20:52:10.239764Z"
    }
   },
   "outputs": [
    {
     "name": "stdout",
     "output_type": "stream",
     "text": [
      "CPU times: user 5 µs, sys: 0 ns, total: 5 µs\n",
      "Wall time: 9.54 µs\n"
     ]
    },
    {
     "data": {
      "image/png": "[encoded data removed]",
      "text/plain": [
       "<Figure size 432x288 with 2 Axes>"
      ]
     },
     "metadata": {},
     "output_type": "display_data"
    },
    {
     "name": "stdout",
     "output_type": "stream",
     "text": [
      "0.7474(max: 0.7474)\n",
      "Done.\n"
     ]
    }
   ],
   "source": [
    "%time\n",
    "# Plot accuracy\n",
    "plt.subplot(211)\n",
    "plt.plot(malstm_trained.history['acc'])\n",
    "plt.plot(malstm_trained.history['val_acc'])\n",
    "plt.title('Model Accuracy')\n",
    "plt.ylabel('Accuracy')\n",
    "plt.xlabel('Epoch')\n",
    "plt.legend(['Train', 'Validation'], loc='upper left')\n",
    "\n",
    "# Plot loss\n",
    "plt.subplot(212)\n",
    "plt.plot(malstm_trained.history['loss'])\n",
    "plt.plot(malstm_trained.history['val_loss'])\n",
    "plt.title('Model Loss')\n",
    "plt.ylabel('Loss')\n",
    "plt.xlabel('Epoch')\n",
    "plt.legend(['Train', 'Validation'], loc='upper right')\n",
    "\n",
    "plt.tight_layout(h_pad=1.0)\n",
    "plt.savefig('./data/history-graph_' + str(num_samples) + '.png')\n",
    "plt.show()\n",
    "\n",
    "print(str(malstm_trained.history['val_acc'][-1])[:6] +\n",
    "      \"(max: \" + str(max(malstm_trained.history['val_acc']))[:6] + \")\")\n",
    "print(\"Done.\")"
   ]
  },
  {
   "cell_type": "markdown",
   "metadata": {},
   "source": [
    "## 4. Predicting "
   ]
  },
  {
   "cell_type": "code",
   "execution_count": 20,
   "metadata": {
    "ExecuteTime": {
     "end_time": "2020-04-22T20:52:13.475542Z",
     "start_time": "2020-04-22T20:52:10.787197Z"
    },
    "scrolled": true
   },
   "outputs": [
    {
     "name": "stdout",
     "output_type": "stream",
     "text": [
      "WARNING:tensorflow:From /home/dev/PythonEnviroments/ailab-researching/lib/python3.6/site-packages/tensorflow_core/python/ops/init_ops.py:97: calling GlorotUniform.__init__ (from tensorflow.python.ops.init_ops) with dtype is deprecated and will be removed in a future version.\n",
      "Instructions for updating:\n",
      "Call initializer instance with the dtype argument instead of passing it to the constructor\n",
      "WARNING:tensorflow:From /home/dev/PythonEnviroments/ailab-researching/lib/python3.6/site-packages/tensorflow_core/python/ops/init_ops.py:97: calling Orthogonal.__init__ (from tensorflow.python.ops.init_ops) with dtype is deprecated and will be removed in a future version.\n",
      "Instructions for updating:\n",
      "Call initializer instance with the dtype argument instead of passing it to the constructor\n",
      "WARNING:tensorflow:From /home/dev/PythonEnviroments/ailab-researching/lib/python3.6/site-packages/tensorflow_core/python/ops/init_ops.py:97: calling Zeros.__init__ (from tensorflow.python.ops.init_ops) with dtype is deprecated and will be removed in a future version.\n",
      "Instructions for updating:\n",
      "Call initializer instance with the dtype argument instead of passing it to the constructor\n",
      "Model: \"model\"\n",
      "__________________________________________________________________________________________________\n",
      "Layer (type)                    Output Shape         Param #     Connected to                     \n",
      "==================================================================================================\n",
      "input_1 (InputLayer)            [(None, 40)]         0                                            \n",
      "__________________________________________________________________________________________________\n",
      "input_2 (InputLayer)            [(None, 40)]         0                                            \n",
      "__________________________________________________________________________________________________\n",
      "sequential (Sequential)         (None, 50)           2725200     input_1[0][0]                    \n",
      "                                                                 input_2[0][0]                    \n",
      "__________________________________________________________________________________________________\n",
      "man_dist (ManDist)              (None, 1)            0           sequential[1][0]                 \n",
      "                                                                 sequential[2][0]                 \n",
      "==================================================================================================\n",
      "Total params: 2,725,200\n",
      "Trainable params: 70,200\n",
      "Non-trainable params: 2,655,000\n",
      "__________________________________________________________________________________________________\n"
     ]
    }
   ],
   "source": [
    "model = tf.keras.models.load_model('./data/SiameseLSTM_' + str(num_samples) + '.h5', custom_objects={'ManDist': ManDist})\n",
    "model.summary()"
   ]
  },
  {
   "cell_type": "markdown",
   "metadata": {
    "ExecuteTime": {
     "end_time": "2020-04-20T18:18:32.321239Z",
     "start_time": "2020-04-20T18:15:16.130Z"
    }
   },
   "source": [
    "### 4.1 Finding the most similar text"
   ]
  },
  {
   "cell_type": "code",
   "execution_count": 21,
   "metadata": {
    "ExecuteTime": {
     "end_time": "2020-04-22T20:52:13.485807Z",
     "start_time": "2020-04-22T20:52:13.477346Z"
    }
   },
   "outputs": [
    {
     "name": "stdout",
     "output_type": "stream",
     "text": [
      "CPU times: user 4 µs, sys: 0 ns, total: 4 µs\n",
      "Wall time: 8.34 µs\n",
      "825282\n",
      "9\n"
     ]
    }
   ],
   "source": [
    "%time\n",
    "matching_questions = []\n",
    "\n",
    "choosen_question_id = test_df['question1_id'].to_list()[0]\n",
    "print(choosen_question_id)\n",
    "    \n",
    "choosen_question_mask = test_df['question1_id'].values == choosen_question_id\n",
    "print(len(test_df[choosen_question_mask]))"
   ]
  },
  {
   "cell_type": "code",
   "execution_count": 22,
   "metadata": {
    "ExecuteTime": {
     "end_time": "2020-04-22T20:52:13.989215Z",
     "start_time": "2020-04-22T20:52:13.487911Z"
    }
   },
   "outputs": [
    {
     "name": "stdout",
     "output_type": "stream",
     "text": [
      "processo recorrente rosineide correia lima recorridoa uniao federal juiz sentenciante camila monteiro pullin milan votoementa administrativo processual civil servidores aposentados pensionistas extint\n",
      "judiciario justica federal assiste razao autora revista pensao morte devendo pago salariodebeneficio face exposto julgo procedente pedido revisar beneficio pensao morte autora obrigacao devendo fixado\n"
     ]
    }
   ],
   "source": [
    "# Split to dicts and append zero padding.\n",
    "X_test = split_and_zero_padding(test_df[choosen_question_mask], max_seq_length)\n",
    "\n",
    "# Make sure everything is ok\n",
    "assert X_test['left'].shape == X_test['right'].shape\n",
    "# --\n",
    "\n",
    "prediction = model.predict([X_test['left'], X_test['right']])\n",
    "closests_text = np.argmax(prediction)\n",
    "most_similar_text = test_df[choosen_question_mask][:1]\n",
    "print(most_similar_text['question1'].values[0][:200])\n",
    "print(most_similar_text['question2'].values[0][:200])"
   ]
  },
  {
   "cell_type": "markdown",
   "metadata": {
    "ExecuteTime": {
     "end_time": "2020-04-16T17:09:39.001984Z",
     "start_time": "2020-04-16T17:09:38.989950Z"
    }
   },
   "source": [
    "## 5. Bibliography\n",
    "\n",
    "Siamese-LSTM. Sang-Kil Park. [Available at](https://github.com/likejazz/Siamese-LSTM) Last visited: 17/04/2020\n"
   ]
  },
  {
   "cell_type": "code",
   "execution_count": null,
   "metadata": {},
   "outputs": [],
   "source": []
  }
 ],
 "metadata": {
  "kernelspec": {
   "display_name": "Python 3",
   "language": "python",
   "name": "python3"
  },
  "language_info": {
   "codemirror_mode": {
    "name": "ipython",
    "version": 3
   },
   "file_extension": ".py",
   "mimetype": "text/x-python",
   "name": "python",
   "nbconvert_exporter": "python",
   "pygments_lexer": "ipython3",
   "version": "3.6.9"
  }
 },
 "nbformat": 4,
 "nbformat_minor": 4
}
