{
 "cells": [
  {
   "cell_type": "markdown",
   "metadata": {},
   "source": [
    "# About\n",
    "### Author:\n",
    "    Thiago Luis Rodrigues Pinho @AILAB \n",
    "### Start Date:\n",
    "    16/04/2020\n",
    "### Objectives:\n",
    "    Develop a clustering algorithm using k-means and represent those cluster distances for ALEI project\n",
    "### Summary:\n",
    "    1. Loading Data\n",
    "         1.1 Sampling Data\n",
    "    2. Counting and Vectorizing\n",
    "    3. Clustiring with k-means\n",
    "        3.1 Finding the optimal number of clusters\n",
    "        3.2 Evaluting the optimal number of clusters\n",
    "    4. Evaluation\n",
    "        4.1 Time Consumed\n",
    "        4.2 Similarities Surface\n",
    "        4.3 Using Similarities To Classify\n",
    "    5. Bibliography"
   ]
  },
  {
   "cell_type": "markdown",
   "metadata": {
    "ExecuteTime": {
     "end_time": "2020-04-14T18:21:06.284091Z",
     "start_time": "2020-04-14T18:21:06.276414Z"
    }
   },
   "source": [
    "# [ALEI] IAgrupador com Cluster"
   ]
  },
  {
   "cell_type": "code",
   "execution_count": 9,
   "metadata": {
    "ExecuteTime": {
     "end_time": "2020-05-25T19:11:59.808653Z",
     "start_time": "2020-05-25T19:11:59.763310Z"
    }
   },
   "outputs": [],
   "source": [
    "from metaflow import Flow, get_metadata, namespace\n",
    "import matplotlib.pyplot as plt\n",
    "import seaborn as sns\n",
    "from scipy import ndimage\n",
    "import numpy as np\n",
    "\n",
    "%matplotlib inline\n",
    "plt.style.use('fivethirtyeight')"
   ]
  },
  {
   "cell_type": "code",
   "execution_count": 6,
   "metadata": {
    "ExecuteTime": {
     "end_time": "2020-05-25T19:00:42.433505Z",
     "start_time": "2020-05-25T19:00:41.867133Z"
    }
   },
   "outputs": [
    {
     "name": "stdout",
     "output_type": "stream",
     "text": [
      "\u001b[35m\u001b[1mMetaflow 2.0.5\u001b[0m\u001b[35m\u001b[22m executing \u001b[0m\u001b[31m\u001b[1mClusteringKMeans\u001b[0m\u001b[35m\u001b[22m\u001b[0m\u001b[35m\u001b[22m for \u001b[0m\u001b[31m\u001b[1muser:dev\u001b[0m\u001b[35m\u001b[22m\u001b[K\u001b[0m\u001b[35m\u001b[22m\u001b[0m\r\n",
      "\u001b[22m\r\n",
      "Develop a clustering algorithm using k-means and represent those cluster distances for ALEI project\r\n",
      "\r\n",
      "Summary:\r\n",
      "    1. Start\r\n",
      "        1.1 Sampling Data\r\n",
      "    2. Counting and Vectorizing\r\n",
      "    3. Clustiring with k-means\r\n",
      "        3.1 Finding the optimal number of clusters\r\n",
      "        3.2 Evaluting the optimal number of clusters\r\n",
      "    4. Evaluation\r\n",
      "        4.1 Time Consumed\r\n",
      "        4.2 Similarities Surface\r\n",
      "        4.3 Using Similarities To Classify\u001b[K\u001b[0m\u001b[22m\u001b[0m\r\n",
      "\u001b[22m\r\n",
      "Step \u001b[0m\u001b[31m\u001b[1mstart\u001b[0m\u001b[22m\u001b[K\u001b[0m\u001b[22m\u001b[0m\r\n",
      "\u001b[22m    Load preprocessed documents\u001b[K\u001b[0m\u001b[22m\u001b[0m\r\n",
      "\u001b[22m    \u001b[0m\u001b[35m\u001b[22m=>\u001b[0m\u001b[22m \u001b[0m\u001b[35m\u001b[22msampling\u001b[0m\u001b[22m\u001b[K\u001b[0m\u001b[22m\u001b[0m\r\n",
      "\u001b[22m\r\n",
      "Step \u001b[0m\u001b[31m\u001b[1msampling\u001b[0m\u001b[22m\u001b[K\u001b[0m\u001b[22m\u001b[0m\r\n",
      "\u001b[22m    Samples a choosen number of rows\u001b[K\u001b[0m\u001b[22m\u001b[0m\r\n",
      "\u001b[22m    \u001b[0m\u001b[35m\u001b[22m=>\u001b[0m\u001b[22m \u001b[0m\u001b[35m\u001b[22mcounting_and_vectorizing\u001b[0m\u001b[22m\u001b[K\u001b[0m\u001b[22m\u001b[0m\r\n",
      "\u001b[22m\r\n",
      "Step \u001b[0m\u001b[31m\u001b[1mcounting_and_vectorizing\u001b[0m\u001b[22m\u001b[K\u001b[0m\u001b[22m\u001b[0m\r\n",
      "\u001b[22m    Convert the documents to bags of tokens,\r\n",
      "    counts them and stores them as frequency vectors\u001b[K\u001b[0m\u001b[22m\u001b[0m\r\n",
      "\u001b[22m    \u001b[0m\u001b[35m\u001b[22m=>\u001b[0m\u001b[22m \u001b[0m\u001b[35m\u001b[22mfinding_optimal_number_of_clusters\u001b[0m\u001b[22m\u001b[K\u001b[0m\u001b[22m\u001b[0m\r\n",
      "\u001b[22m\r\n",
      "Step \u001b[0m\u001b[31m\u001b[1mfinding_optimal_number_of_clusters\u001b[0m\u001b[22m\u001b[K\u001b[0m\u001b[22m\u001b[0m\r\n",
      "\u001b[22m    To find it, let's use the elbow curve analysis.\r\n",
      "    In this analysis we try models from an interval of cluster numbers\r\n",
      "    and using each model's cluster cohesion to score them.\u001b[K\u001b[0m\u001b[22m\u001b[0m\r\n",
      "\u001b[22m    \u001b[0m\u001b[35m\u001b[22m=>\u001b[0m\u001b[22m \u001b[0m\u001b[35m\u001b[22mevaluating_optimal_number_of_clusters\u001b[0m\u001b[22m\u001b[K\u001b[0m\u001b[22m\u001b[0m\r\n",
      "\u001b[22m\r\n",
      "Step \u001b[0m\u001b[31m\u001b[1mevaluating_optimal_number_of_clusters\u001b[0m\u001b[22m\u001b[K\u001b[0m\u001b[22m\u001b[0m\r\n",
      "\u001b[22m    On the last step we saw how after 3 cluster the improving in score\r\n",
      "    slows down how much it changes.\r\n",
      "    We use 3 as default\u001b[K\u001b[0m\u001b[22m\u001b[0m\r\n",
      "\u001b[22m    \u001b[0m\u001b[35m\u001b[22m=>\u001b[0m\u001b[22m \u001b[0m\u001b[35m\u001b[22mcreating_text_pairs\u001b[0m\u001b[22m\u001b[K\u001b[0m\u001b[22m\u001b[0m\r\n",
      "\u001b[22m\r\n",
      "Step \u001b[0m\u001b[31m\u001b[1mcreating_text_pairs\u001b[0m\u001b[22m\u001b[K\u001b[0m\u001b[22m\u001b[0m\r\n",
      "\u001b[22m    Create a new dataframe with pair of documents. If the given\r\n",
      "    input is N the output will be NxN long.\u001b[K\u001b[0m\u001b[22m\u001b[0m\r\n",
      "\u001b[22m    \u001b[0m\u001b[35m\u001b[22m=>\u001b[0m\u001b[22m \u001b[0m\u001b[35m\u001b[22mcaculating_similarities\u001b[0m\u001b[22m\u001b[K\u001b[0m\u001b[22m\u001b[0m\r\n",
      "\u001b[22m\r\n",
      "Step \u001b[0m\u001b[31m\u001b[1mcaculating_similarities\u001b[0m\u001b[22m\u001b[K\u001b[0m\u001b[22m\u001b[0m\r\n",
      "\u001b[22m    Measures kmeans similarities for all pair texts and sort their values\r\n",
      "    for better visualisation.\u001b[K\u001b[0m\u001b[22m\u001b[0m\r\n",
      "\u001b[22m    \u001b[0m\u001b[35m\u001b[22m=>\u001b[0m\u001b[22m \u001b[0m\u001b[35m\u001b[22mend\u001b[0m\u001b[22m\u001b[K\u001b[0m\u001b[22m\u001b[0m\r\n",
      "\u001b[22m\r\n",
      "Step \u001b[0m\u001b[31m\u001b[1mend\u001b[0m\u001b[22m\u001b[K\u001b[0m\u001b[22m\u001b[0m\r\n",
      "\u001b[22m    End the flow.\r\n",
      "    Output data available on\r\n",
      "        mapped_distances_df\u001b[K\u001b[0m\u001b[22m\u001b[0m\r\n",
      "\u001b[22m\u001b[K\u001b[0m\u001b[22m\u001b[0m\r\n"
     ]
    }
   ],
   "source": [
    "!python clustering.py show"
   ]
  },
  {
   "cell_type": "code",
   "execution_count": 7,
   "metadata": {
    "ExecuteTime": {
     "end_time": "2020-05-25T19:11:16.715553Z",
     "start_time": "2020-05-25T19:02:17.514250Z"
    }
   },
   "outputs": [
    {
     "name": "stdout",
     "output_type": "stream",
     "text": [
      "\u001b[35m\u001b[1mMetaflow 2.0.5\u001b[0m\u001b[35m\u001b[22m executing \u001b[0m\u001b[31m\u001b[1mClusteringKMeans\u001b[0m\u001b[35m\u001b[22m\u001b[0m\u001b[35m\u001b[22m for \u001b[0m\u001b[31m\u001b[1muser:dev\u001b[0m\u001b[35m\u001b[22m\u001b[K\u001b[0m\u001b[35m\u001b[22m\u001b[0m\n",
      "\u001b[35m\u001b[22mValidating your flow...\u001b[K\u001b[0m\u001b[35m\u001b[22m\u001b[0m\n",
      "\u001b[32m\u001b[1m    The graph looks good!\u001b[K\u001b[0m\u001b[32m\u001b[1m\u001b[0m\n",
      "\u001b[35m2020-05-25 16:02:17.957 \u001b[0m\u001b[1mWorkflow starting (run-id 1590433337950595):\u001b[0m\n",
      "\u001b[35m2020-05-25 16:02:17.962 \u001b[0m\u001b[32m[1590433337950595/start/1 (pid 17654)] \u001b[0m\u001b[1mTask is starting.\u001b[0m\n",
      "\u001b[35m2020-05-25 16:02:30.113 \u001b[0m\u001b[32m[1590433337950595/start/1 (pid 17654)] \u001b[0m\u001b[1mTask finished successfully.\u001b[0m\n",
      "\u001b[35m2020-05-25 16:02:30.117 \u001b[0m\u001b[32m[1590433337950595/sampling/2 (pid 17669)] \u001b[0m\u001b[1mTask is starting.\u001b[0m\n",
      "\u001b[35m2020-05-25 16:02:31.145 \u001b[0m\u001b[32m[1590433337950595/sampling/2 (pid 17669)] \u001b[0m\u001b[1mTask finished successfully.\u001b[0m\n",
      "\u001b[35m2020-05-25 16:02:31.149 \u001b[0m\u001b[32m[1590433337950595/counting_and_vectorizing/3 (pid 17674)] \u001b[0m\u001b[1mTask is starting.\u001b[0m\n",
      "\u001b[35m2020-05-25 16:02:40.609 \u001b[0m\u001b[32m[1590433337950595/counting_and_vectorizing/3 (pid 17674)] \u001b[0m\u001b[1mTask finished successfully.\u001b[0m\n",
      "\u001b[35m2020-05-25 16:02:40.613 \u001b[0m\u001b[32m[1590433337950595/finding_optimal_number_of_clusters/4 (pid 17681)] \u001b[0m\u001b[1mTask is starting.\u001b[0m\n",
      "\u001b[35m2020-05-25 16:02:47.739 \u001b[0m\u001b[32m[1590433337950595/finding_optimal_number_of_clusters/4 (pid 17681)] \u001b[0m\u001b[1mTask finished successfully.\u001b[0m\n",
      "\u001b[35m2020-05-25 16:02:47.744 \u001b[0m\u001b[32m[1590433337950595/evaluating_optimal_number_of_clusters/5 (pid 17691)] \u001b[0m\u001b[1mTask is starting.\u001b[0m\n",
      "\u001b[35m2020-05-25 16:02:49.078 \u001b[0m\u001b[32m[1590433337950595/evaluating_optimal_number_of_clusters/5 (pid 17691)] \u001b[0m\u001b[1mTask finished successfully.\u001b[0m\n",
      "\u001b[35m2020-05-25 16:02:49.083 \u001b[0m\u001b[32m[1590433337950595/creating_text_pairs/6 (pid 17698)] \u001b[0m\u001b[1mTask is starting.\u001b[0m\n",
      "\u001b[35m2020-05-25 16:02:51.837 \u001b[0m\u001b[32m[1590433337950595/creating_text_pairs/6 (pid 17698)] \u001b[0m\u001b[1mTask finished successfully.\u001b[0m\n",
      "\u001b[35m2020-05-25 16:02:51.844 \u001b[0m\u001b[32m[1590433337950595/caculating_similarities/7 (pid 17703)] \u001b[0m\u001b[1mTask is starting.\u001b[0m\n",
      "\u001b[35m2020-05-25 16:02:54.414 \u001b[0m\u001b[32m[1590433337950595/caculating_similarities/7 (pid 17703)] \u001b[0m\u001b[1mTask finished successfully.\u001b[0m\n",
      "\u001b[35m2020-05-25 16:02:54.418 \u001b[0m\u001b[32m[1590433337950595/end/8 (pid 17709)] \u001b[0m\u001b[1mTask is starting.\u001b[0m\n",
      "\u001b[35m2020-05-25 16:02:54.877 \u001b[0m\u001b[32m[1590433337950595/end/8 (pid 17709)] \u001b[0m\u001b[1mTask finished successfully.\u001b[0m\n",
      "\u001b[35m2020-05-25 16:02:54.877 \u001b[0m\u001b[1mDone!\u001b[0m\n",
      "\u001b[35m\u001b[1mMetaflow 2.0.5\u001b[0m\u001b[35m\u001b[22m executing \u001b[0m\u001b[31m\u001b[1mClusteringKMeans\u001b[0m\u001b[35m\u001b[22m\u001b[0m\u001b[35m\u001b[22m for \u001b[0m\u001b[31m\u001b[1muser:dev\u001b[0m\u001b[35m\u001b[22m\u001b[K\u001b[0m\u001b[35m\u001b[22m\u001b[0m\n",
      "\u001b[35m\u001b[22mValidating your flow...\u001b[K\u001b[0m\u001b[35m\u001b[22m\u001b[0m\n",
      "\u001b[32m\u001b[1m    The graph looks good!\u001b[K\u001b[0m\u001b[32m\u001b[1m\u001b[0m\n",
      "\u001b[35m2020-05-25 16:02:55.490 \u001b[0m\u001b[1mWorkflow starting (run-id 1590433375484504):\u001b[0m\n",
      "\u001b[35m2020-05-25 16:02:55.493 \u001b[0m\u001b[32m[1590433375484504/start/1 (pid 17720)] \u001b[0m\u001b[1mTask is starting.\u001b[0m\n",
      "\u001b[35m2020-05-25 16:03:07.508 \u001b[0m\u001b[32m[1590433375484504/start/1 (pid 17720)] \u001b[0m\u001b[1mTask finished successfully.\u001b[0m\n",
      "\u001b[35m2020-05-25 16:03:07.512 \u001b[0m\u001b[32m[1590433375484504/sampling/2 (pid 17728)] \u001b[0m\u001b[1mTask is starting.\u001b[0m\n",
      "\u001b[35m2020-05-25 16:03:08.501 \u001b[0m\u001b[32m[1590433375484504/sampling/2 (pid 17728)] \u001b[0m\u001b[1mTask finished successfully.\u001b[0m\n",
      "\u001b[35m2020-05-25 16:03:08.507 \u001b[0m\u001b[32m[1590433375484504/counting_and_vectorizing/3 (pid 17733)] \u001b[0m\u001b[1mTask is starting.\u001b[0m\n",
      "\u001b[35m2020-05-25 16:03:27.780 \u001b[0m\u001b[32m[1590433375484504/counting_and_vectorizing/3 (pid 17733)] \u001b[0m\u001b[1mTask finished successfully.\u001b[0m\n",
      "\u001b[35m2020-05-25 16:03:27.783 \u001b[0m\u001b[32m[1590433375484504/finding_optimal_number_of_clusters/4 (pid 17742)] \u001b[0m\u001b[1mTask is starting.\u001b[0m\n",
      "\u001b[35m2020-05-25 16:05:38.592 \u001b[0m\u001b[32m[1590433375484504/finding_optimal_number_of_clusters/4 (pid 17742)] \u001b[0m\u001b[1mTask finished successfully.\u001b[0m\n",
      "\u001b[35m2020-05-25 16:05:38.601 \u001b[0m\u001b[32m[1590433375484504/evaluating_optimal_number_of_clusters/5 (pid 17902)] \u001b[0m\u001b[1mTask is starting.\u001b[0m\n",
      "\u001b[35m2020-05-25 16:05:40.422 \u001b[0m\u001b[32m[1590433375484504/evaluating_optimal_number_of_clusters/5 (pid 17902)] \u001b[0m\u001b[1mTask finished successfully.\u001b[0m\n",
      "\u001b[35m2020-05-25 16:05:40.426 \u001b[0m\u001b[32m[1590433375484504/creating_text_pairs/6 (pid 17910)] \u001b[0m\u001b[1mTask is starting.\u001b[0m\n",
      "\u001b[35m2020-05-25 16:08:34.178 \u001b[0m\u001b[32m[1590433375484504/creating_text_pairs/6 (pid 17910)] \u001b[0m\u001b[1mTask finished successfully.\u001b[0m\n",
      "\u001b[35m2020-05-25 16:08:34.182 \u001b[0m\u001b[32m[1590433375484504/caculating_similarities/7 (pid 18091)] \u001b[0m\u001b[1mTask is starting.\u001b[0m\n",
      "\u001b[35m2020-05-25 16:11:16.081 \u001b[0m\u001b[32m[1590433375484504/caculating_similarities/7 (pid 18091)] \u001b[0m\u001b[1mTask finished successfully.\u001b[0m\n",
      "\u001b[35m2020-05-25 16:11:16.085 \u001b[0m\u001b[32m[1590433375484504/end/8 (pid 18187)] \u001b[0m\u001b[1mTask is starting.\u001b[0m\n",
      "\u001b[35m2020-05-25 16:11:16.565 \u001b[0m\u001b[32m[1590433375484504/end/8 (pid 18187)] \u001b[0m\u001b[1mTask finished successfully.\u001b[0m\n",
      "\u001b[35m2020-05-25 16:11:16.566 \u001b[0m\u001b[1mDone!\u001b[0m\n"
     ]
    }
   ],
   "source": [
    "!python clustering.py --no-pylint run --tag visualisation --num_samples 500\n",
    "!python clustering.py --no-pylint run --tag performance --num_samples 1000"
   ]
  },
  {
   "cell_type": "code",
   "execution_count": 25,
   "metadata": {
    "ExecuteTime": {
     "end_time": "2020-05-25T19:24:10.909085Z",
     "start_time": "2020-05-25T19:24:10.887223Z"
    }
   },
   "outputs": [
    {
     "name": "stdout",
     "output_type": "stream",
     "text": [
      "Using runs:  Run('ClusteringKMeans/1590434527016950') Run('ClusteringKMeans/1590433375484504')\n"
     ]
    }
   ],
   "source": [
    "visualisation_run = list(Flow('ClusteringKMeans').runs('visualisation'))[0]\n",
    "performance_run = list(Flow('ClusteringKMeans').runs('performance'))[0]\n",
    "print(\"Using runs: \", str(visualisation_run), str(performance_run))"
   ]
  },
  {
   "cell_type": "code",
   "execution_count": 33,
   "metadata": {
    "ExecuteTime": {
     "end_time": "2020-05-25T19:26:10.247121Z",
     "start_time": "2020-05-25T19:26:09.933713Z"
    }
   },
   "outputs": [
    {
     "data": {
      "text/html": [
       "<div>\n",
       "<style scoped>\n",
       "    .dataframe tbody tr th:only-of-type {\n",
       "        vertical-align: middle;\n",
       "    }\n",
       "\n",
       "    .dataframe tbody tr th {\n",
       "        vertical-align: top;\n",
       "    }\n",
       "\n",
       "    .dataframe thead th {\n",
       "        text-align: right;\n",
       "    }\n",
       "</style>\n",
       "<table border=\"1\" class=\"dataframe\">\n",
       "  <thead>\n",
       "    <tr style=\"text-align: right;\">\n",
       "      <th></th>\n",
       "      <th>1035663</th>\n",
       "      <th>311123844</th>\n",
       "      <th>311212762</th>\n",
       "      <th>3200787</th>\n",
       "      <th>3689352</th>\n",
       "      <th>1530629</th>\n",
       "      <th>1331896</th>\n",
       "      <th>4937951</th>\n",
       "      <th>310550039</th>\n",
       "      <th>4293907</th>\n",
       "      <th>...</th>\n",
       "      <th>4425992</th>\n",
       "      <th>4505924</th>\n",
       "      <th>4426008</th>\n",
       "      <th>4426022</th>\n",
       "      <th>4453959</th>\n",
       "      <th>3772551</th>\n",
       "      <th>4453885</th>\n",
       "      <th>3927424</th>\n",
       "      <th>4428318</th>\n",
       "      <th>5845272</th>\n",
       "    </tr>\n",
       "  </thead>\n",
       "  <tbody>\n",
       "    <tr>\n",
       "      <th>1035663</th>\n",
       "      <td>1.000000</td>\n",
       "      <td>0.995336</td>\n",
       "      <td>0.994358</td>\n",
       "      <td>0.990220</td>\n",
       "      <td>0.990155</td>\n",
       "      <td>0.989022</td>\n",
       "      <td>0.988480</td>\n",
       "      <td>0.985697</td>\n",
       "      <td>0.984499</td>\n",
       "      <td>0.982018</td>\n",
       "      <td>...</td>\n",
       "      <td>-0.175464</td>\n",
       "      <td>-0.175464</td>\n",
       "      <td>-0.226070</td>\n",
       "      <td>-0.226070</td>\n",
       "      <td>-0.226070</td>\n",
       "      <td>-0.226070</td>\n",
       "      <td>-0.226070</td>\n",
       "      <td>-0.226070</td>\n",
       "      <td>-0.226070</td>\n",
       "      <td>-0.226070</td>\n",
       "    </tr>\n",
       "    <tr>\n",
       "      <th>311123844</th>\n",
       "      <td>0.995336</td>\n",
       "      <td>1.000000</td>\n",
       "      <td>0.997609</td>\n",
       "      <td>0.993471</td>\n",
       "      <td>0.993407</td>\n",
       "      <td>0.992665</td>\n",
       "      <td>0.983817</td>\n",
       "      <td>0.981033</td>\n",
       "      <td>0.984404</td>\n",
       "      <td>0.985317</td>\n",
       "      <td>...</td>\n",
       "      <td>-0.178716</td>\n",
       "      <td>-0.178716</td>\n",
       "      <td>-0.229322</td>\n",
       "      <td>-0.229322</td>\n",
       "      <td>-0.229322</td>\n",
       "      <td>-0.229322</td>\n",
       "      <td>-0.229322</td>\n",
       "      <td>-0.229322</td>\n",
       "      <td>-0.229322</td>\n",
       "      <td>-0.229322</td>\n",
       "    </tr>\n",
       "    <tr>\n",
       "      <th>311212762</th>\n",
       "      <td>0.994358</td>\n",
       "      <td>0.997609</td>\n",
       "      <td>1.000000</td>\n",
       "      <td>0.994584</td>\n",
       "      <td>0.995797</td>\n",
       "      <td>0.993425</td>\n",
       "      <td>0.984078</td>\n",
       "      <td>0.981294</td>\n",
       "      <td>0.982013</td>\n",
       "      <td>0.986421</td>\n",
       "      <td>...</td>\n",
       "      <td>-0.181106</td>\n",
       "      <td>-0.181106</td>\n",
       "      <td>-0.231712</td>\n",
       "      <td>-0.231712</td>\n",
       "      <td>-0.231712</td>\n",
       "      <td>-0.231712</td>\n",
       "      <td>-0.231712</td>\n",
       "      <td>-0.231712</td>\n",
       "      <td>-0.231712</td>\n",
       "      <td>-0.231712</td>\n",
       "    </tr>\n",
       "    <tr>\n",
       "      <th>3200787</th>\n",
       "      <td>0.990220</td>\n",
       "      <td>0.993471</td>\n",
       "      <td>0.994584</td>\n",
       "      <td>1.000000</td>\n",
       "      <td>0.994215</td>\n",
       "      <td>0.988009</td>\n",
       "      <td>0.989494</td>\n",
       "      <td>0.986711</td>\n",
       "      <td>0.977875</td>\n",
       "      <td>0.981004</td>\n",
       "      <td>...</td>\n",
       "      <td>-0.185244</td>\n",
       "      <td>-0.185244</td>\n",
       "      <td>-0.235850</td>\n",
       "      <td>-0.235850</td>\n",
       "      <td>-0.235850</td>\n",
       "      <td>-0.235850</td>\n",
       "      <td>-0.235850</td>\n",
       "      <td>-0.235850</td>\n",
       "      <td>-0.235850</td>\n",
       "      <td>-0.235850</td>\n",
       "    </tr>\n",
       "    <tr>\n",
       "      <th>3689352</th>\n",
       "      <td>0.990155</td>\n",
       "      <td>0.993407</td>\n",
       "      <td>0.995797</td>\n",
       "      <td>0.994215</td>\n",
       "      <td>1.000000</td>\n",
       "      <td>0.993794</td>\n",
       "      <td>0.983709</td>\n",
       "      <td>0.980926</td>\n",
       "      <td>0.977810</td>\n",
       "      <td>0.986789</td>\n",
       "      <td>...</td>\n",
       "      <td>-0.185309</td>\n",
       "      <td>-0.185309</td>\n",
       "      <td>-0.235915</td>\n",
       "      <td>-0.235915</td>\n",
       "      <td>-0.235915</td>\n",
       "      <td>-0.235915</td>\n",
       "      <td>-0.235915</td>\n",
       "      <td>-0.235915</td>\n",
       "      <td>-0.235915</td>\n",
       "      <td>-0.235915</td>\n",
       "    </tr>\n",
       "    <tr>\n",
       "      <th>...</th>\n",
       "      <td>...</td>\n",
       "      <td>...</td>\n",
       "      <td>...</td>\n",
       "      <td>...</td>\n",
       "      <td>...</td>\n",
       "      <td>...</td>\n",
       "      <td>...</td>\n",
       "      <td>...</td>\n",
       "      <td>...</td>\n",
       "      <td>...</td>\n",
       "      <td>...</td>\n",
       "      <td>...</td>\n",
       "      <td>...</td>\n",
       "      <td>...</td>\n",
       "      <td>...</td>\n",
       "      <td>...</td>\n",
       "      <td>...</td>\n",
       "      <td>...</td>\n",
       "      <td>...</td>\n",
       "      <td>...</td>\n",
       "      <td>...</td>\n",
       "    </tr>\n",
       "    <tr>\n",
       "      <th>3772551</th>\n",
       "      <td>-0.226070</td>\n",
       "      <td>-0.229322</td>\n",
       "      <td>-0.231712</td>\n",
       "      <td>-0.235850</td>\n",
       "      <td>-0.235915</td>\n",
       "      <td>-0.236657</td>\n",
       "      <td>-0.226676</td>\n",
       "      <td>-0.223566</td>\n",
       "      <td>-0.213725</td>\n",
       "      <td>-0.244005</td>\n",
       "      <td>...</td>\n",
       "      <td>0.949394</td>\n",
       "      <td>0.949394</td>\n",
       "      <td>1.000000</td>\n",
       "      <td>1.000000</td>\n",
       "      <td>1.000000</td>\n",
       "      <td>1.000000</td>\n",
       "      <td>1.000000</td>\n",
       "      <td>1.000000</td>\n",
       "      <td>1.000000</td>\n",
       "      <td>1.000000</td>\n",
       "    </tr>\n",
       "    <tr>\n",
       "      <th>4453885</th>\n",
       "      <td>-0.226070</td>\n",
       "      <td>-0.229322</td>\n",
       "      <td>-0.231712</td>\n",
       "      <td>-0.235850</td>\n",
       "      <td>-0.235915</td>\n",
       "      <td>-0.236657</td>\n",
       "      <td>-0.226676</td>\n",
       "      <td>-0.223566</td>\n",
       "      <td>-0.213725</td>\n",
       "      <td>-0.244005</td>\n",
       "      <td>...</td>\n",
       "      <td>0.949394</td>\n",
       "      <td>0.949394</td>\n",
       "      <td>1.000000</td>\n",
       "      <td>1.000000</td>\n",
       "      <td>1.000000</td>\n",
       "      <td>1.000000</td>\n",
       "      <td>1.000000</td>\n",
       "      <td>1.000000</td>\n",
       "      <td>1.000000</td>\n",
       "      <td>1.000000</td>\n",
       "    </tr>\n",
       "    <tr>\n",
       "      <th>3927424</th>\n",
       "      <td>-0.226070</td>\n",
       "      <td>-0.229322</td>\n",
       "      <td>-0.231712</td>\n",
       "      <td>-0.235850</td>\n",
       "      <td>-0.235915</td>\n",
       "      <td>-0.236657</td>\n",
       "      <td>-0.226676</td>\n",
       "      <td>-0.223566</td>\n",
       "      <td>-0.213725</td>\n",
       "      <td>-0.244005</td>\n",
       "      <td>...</td>\n",
       "      <td>0.949394</td>\n",
       "      <td>0.949394</td>\n",
       "      <td>1.000000</td>\n",
       "      <td>1.000000</td>\n",
       "      <td>1.000000</td>\n",
       "      <td>1.000000</td>\n",
       "      <td>1.000000</td>\n",
       "      <td>1.000000</td>\n",
       "      <td>1.000000</td>\n",
       "      <td>1.000000</td>\n",
       "    </tr>\n",
       "    <tr>\n",
       "      <th>4428318</th>\n",
       "      <td>-0.226070</td>\n",
       "      <td>-0.229322</td>\n",
       "      <td>-0.231712</td>\n",
       "      <td>-0.235850</td>\n",
       "      <td>-0.235915</td>\n",
       "      <td>-0.236657</td>\n",
       "      <td>-0.226676</td>\n",
       "      <td>-0.223566</td>\n",
       "      <td>-0.213725</td>\n",
       "      <td>-0.244005</td>\n",
       "      <td>...</td>\n",
       "      <td>0.949394</td>\n",
       "      <td>0.949394</td>\n",
       "      <td>1.000000</td>\n",
       "      <td>1.000000</td>\n",
       "      <td>1.000000</td>\n",
       "      <td>1.000000</td>\n",
       "      <td>1.000000</td>\n",
       "      <td>1.000000</td>\n",
       "      <td>1.000000</td>\n",
       "      <td>1.000000</td>\n",
       "    </tr>\n",
       "    <tr>\n",
       "      <th>5845272</th>\n",
       "      <td>-0.226070</td>\n",
       "      <td>-0.229322</td>\n",
       "      <td>-0.231712</td>\n",
       "      <td>-0.235850</td>\n",
       "      <td>-0.235915</td>\n",
       "      <td>-0.236657</td>\n",
       "      <td>-0.226676</td>\n",
       "      <td>-0.223566</td>\n",
       "      <td>-0.213725</td>\n",
       "      <td>-0.244005</td>\n",
       "      <td>...</td>\n",
       "      <td>0.949394</td>\n",
       "      <td>0.949394</td>\n",
       "      <td>1.000000</td>\n",
       "      <td>1.000000</td>\n",
       "      <td>1.000000</td>\n",
       "      <td>1.000000</td>\n",
       "      <td>1.000000</td>\n",
       "      <td>1.000000</td>\n",
       "      <td>1.000000</td>\n",
       "      <td>1.000000</td>\n",
       "    </tr>\n",
       "  </tbody>\n",
       "</table>\n",
       "<p>500 rows × 500 columns</p>\n",
       "</div>"
      ],
      "text/plain": [
       "            1035663  311123844  311212762   3200787   3689352   1530629  \\\n",
       "1035663    1.000000   0.995336   0.994358  0.990220  0.990155  0.989022   \n",
       "311123844  0.995336   1.000000   0.997609  0.993471  0.993407  0.992665   \n",
       "311212762  0.994358   0.997609   1.000000  0.994584  0.995797  0.993425   \n",
       "3200787    0.990220   0.993471   0.994584  1.000000  0.994215  0.988009   \n",
       "3689352    0.990155   0.993407   0.995797  0.994215  1.000000  0.993794   \n",
       "...             ...        ...        ...       ...       ...       ...   \n",
       "3772551   -0.226070  -0.229322  -0.231712 -0.235850 -0.235915 -0.236657   \n",
       "4453885   -0.226070  -0.229322  -0.231712 -0.235850 -0.235915 -0.236657   \n",
       "3927424   -0.226070  -0.229322  -0.231712 -0.235850 -0.235915 -0.236657   \n",
       "4428318   -0.226070  -0.229322  -0.231712 -0.235850 -0.235915 -0.236657   \n",
       "5845272   -0.226070  -0.229322  -0.231712 -0.235850 -0.235915 -0.236657   \n",
       "\n",
       "            1331896   4937951  310550039   4293907  ...   4425992   4505924  \\\n",
       "1035663    0.988480  0.985697   0.984499  0.982018  ... -0.175464 -0.175464   \n",
       "311123844  0.983817  0.981033   0.984404  0.985317  ... -0.178716 -0.178716   \n",
       "311212762  0.984078  0.981294   0.982013  0.986421  ... -0.181106 -0.181106   \n",
       "3200787    0.989494  0.986711   0.977875  0.981004  ... -0.185244 -0.185244   \n",
       "3689352    0.983709  0.980926   0.977810  0.986789  ... -0.185309 -0.185309   \n",
       "...             ...       ...        ...       ...  ...       ...       ...   \n",
       "3772551   -0.226676 -0.223566  -0.213725 -0.244005  ...  0.949394  0.949394   \n",
       "4453885   -0.226676 -0.223566  -0.213725 -0.244005  ...  0.949394  0.949394   \n",
       "3927424   -0.226676 -0.223566  -0.213725 -0.244005  ...  0.949394  0.949394   \n",
       "4428318   -0.226676 -0.223566  -0.213725 -0.244005  ...  0.949394  0.949394   \n",
       "5845272   -0.226676 -0.223566  -0.213725 -0.244005  ...  0.949394  0.949394   \n",
       "\n",
       "            4426008   4426022   4453959   3772551   4453885   3927424  \\\n",
       "1035663   -0.226070 -0.226070 -0.226070 -0.226070 -0.226070 -0.226070   \n",
       "311123844 -0.229322 -0.229322 -0.229322 -0.229322 -0.229322 -0.229322   \n",
       "311212762 -0.231712 -0.231712 -0.231712 -0.231712 -0.231712 -0.231712   \n",
       "3200787   -0.235850 -0.235850 -0.235850 -0.235850 -0.235850 -0.235850   \n",
       "3689352   -0.235915 -0.235915 -0.235915 -0.235915 -0.235915 -0.235915   \n",
       "...             ...       ...       ...       ...       ...       ...   \n",
       "3772551    1.000000  1.000000  1.000000  1.000000  1.000000  1.000000   \n",
       "4453885    1.000000  1.000000  1.000000  1.000000  1.000000  1.000000   \n",
       "3927424    1.000000  1.000000  1.000000  1.000000  1.000000  1.000000   \n",
       "4428318    1.000000  1.000000  1.000000  1.000000  1.000000  1.000000   \n",
       "5845272    1.000000  1.000000  1.000000  1.000000  1.000000  1.000000   \n",
       "\n",
       "            4428318   5845272  \n",
       "1035663   -0.226070 -0.226070  \n",
       "311123844 -0.229322 -0.229322  \n",
       "311212762 -0.231712 -0.231712  \n",
       "3200787   -0.235850 -0.235850  \n",
       "3689352   -0.235915 -0.235915  \n",
       "...             ...       ...  \n",
       "3772551    1.000000  1.000000  \n",
       "4453885    1.000000  1.000000  \n",
       "3927424    1.000000  1.000000  \n",
       "4428318    1.000000  1.000000  \n",
       "5845272    1.000000  1.000000  \n",
       "\n",
       "[500 rows x 500 columns]"
      ]
     },
     "execution_count": 33,
     "metadata": {},
     "output_type": "execute_result"
    }
   ],
   "source": [
    "mapped_distances_df = visualisation_run.data.mapped_distances_df\n",
    "number_clusters, kmeans_score =  visualisation_run.data.number_clusters,  visualisation_run.data.kmeans_score\n",
    "prediction =  visualisation_run.data.prediction\n",
    "svd_docs =  visualisation_run.data.svd_docs\n",
    "\n",
    "performance_mapped_distances = performance_run.data.mapped_distances_df\n",
    "performance_mapped_predictions = performance_run.data.mapped_predictions_df\n",
    "total_time = performance_run.data.total_time\n",
    "mapped_distances_df"
   ]
  },
  {
   "cell_type": "markdown",
   "metadata": {},
   "source": [
    "## 3.1 Finding the optimal number of clusters\n",
    "To find it, let's use the elbow curve analysis. In this analysis we try models from an interval of cluster numbers and using each model's cluster cohesion to score them. "
   ]
  },
  {
   "cell_type": "code",
   "execution_count": 27,
   "metadata": {
    "ExecuteTime": {
     "end_time": "2020-05-25T19:24:17.478495Z",
     "start_time": "2020-05-25T19:24:17.322146Z"
    }
   },
   "outputs": [
    {
     "data": {
      "image/png": "[encoded data removed]",
      "text/plain": [
       "<Figure size 432x288 with 1 Axes>"
      ]
     },
     "metadata": {},
     "output_type": "display_data"
    }
   ],
   "source": [
    "plt.plot(number_clusters, kmeans_score)\n",
    "plt.xlabel('Number of Clusters')\n",
    "plt.ylabel('Score')\n",
    "plt.title('Elbow Method')\n",
    "plt.show()"
   ]
  },
  {
   "cell_type": "markdown",
   "metadata": {},
   "source": [
    "## 3.2 Evaluting the optimal number of clusters\n",
    "On the last step we saw how after 3 cluster the improving in score slows down how much it changes.\n",
    "Let's choose 3 then."
   ]
  },
  {
   "cell_type": "code",
   "execution_count": 28,
   "metadata": {
    "ExecuteTime": {
     "end_time": "2020-05-25T19:24:21.459460Z",
     "start_time": "2020-05-25T19:24:21.222682Z"
    },
    "scrolled": false
   },
   "outputs": [
    {
     "data": {
      "image/png": "[encoded data removed]",
      "text/plain": [
       "<Figure size 864x864 with 1 Axes>"
      ]
     },
     "metadata": {},
     "output_type": "display_data"
    }
   ],
   "source": [
    "fig = plt.figure(figsize=(12, 12))\n",
    "plt.scatter(svd_docs[:, 0], svd_docs[:, 1], c=prediction)\n",
    "plt.title(\"Visual Representation for Clusters\")\n",
    "\n",
    "plt.show()"
   ]
  },
  {
   "cell_type": "markdown",
   "metadata": {},
   "source": [
    "# 4. Evaluation\n",
    "\n",
    "## 4.1 Time Consumed"
   ]
  },
  {
   "cell_type": "code",
   "execution_count": 29,
   "metadata": {
    "ExecuteTime": {
     "end_time": "2020-05-25T19:24:30.220979Z",
     "start_time": "2020-05-25T19:24:30.205829Z"
    }
   },
   "outputs": [
    {
     "name": "stdout",
     "output_type": "stream",
     "text": [
      "Tempo consumido foi:  0:08:19.920579\n"
     ]
    }
   ],
   "source": [
    "print(\"Tempo consumido foi: \", total_time)"
   ]
  },
  {
   "cell_type": "markdown",
   "metadata": {},
   "source": [
    "## 4.2 Similarities Surface\n",
    " If we analyses the similarities as if it was a surface we can measure how smooth they change. If the smoothness is high, the less informative the algorithm is to differentiate documents"
   ]
  },
  {
   "cell_type": "code",
   "execution_count": 30,
   "metadata": {
    "ExecuteTime": {
     "end_time": "2020-05-25T19:24:32.616438Z",
     "start_time": "2020-05-25T19:24:32.574656Z"
    }
   },
   "outputs": [
    {
     "name": "stdout",
     "output_type": "stream",
     "text": [
      "Surface Smoothness(0 to 1):  0.9456714787503273\n"
     ]
    }
   ],
   "source": [
    "result = ndimage.laplace(performance_mapped_distances.to_numpy())\n",
    "surface_roughness = np.average(np.absolute(result))\n",
    "print(\"Surface Smoothness(0 to 1): \", 1 - surface_roughness)"
   ]
  },
  {
   "cell_type": "markdown",
   "metadata": {},
   "source": [
    "## 4.3 Using Similarities To Classify"
   ]
  },
  {
   "cell_type": "code",
   "execution_count": 34,
   "metadata": {
    "ExecuteTime": {
     "end_time": "2020-05-25T19:26:16.609778Z",
     "start_time": "2020-05-25T19:26:16.265835Z"
    },
    "scrolled": false
   },
   "outputs": [
    {
     "name": "stdout",
     "output_type": "stream",
     "text": [
      "Accuracy:  0.6066803736969304\n",
      "Precision:  0.5102436804187302\n",
      "Recall:  0.3399391946887119\n",
      "F1 Score:  0.4080341556976847\n"
     ]
    }
   ],
   "source": [
    "predictions_matrix = performance_mapped_predictions.to_numpy()\n",
    "\n",
    "true_positive = 0\n",
    "true_negative = 0\n",
    "false_positive = 0\n",
    "false_negative = 0\n",
    "count = 0\n",
    "for i in range(1, len(predictions_matrix)):\n",
    "    for j in range(i, len(predictions_matrix)):\n",
    "        count += 1\n",
    "        similarity_prediction, true_class = predictions_matrix[i][j]\n",
    "        if similarity_prediction == true_class:\n",
    "            if similarity_prediction:\n",
    "                true_positive += 1\n",
    "            else:\n",
    "                true_negative += 1\n",
    "        else:\n",
    "            if similarity_prediction:\n",
    "                false_positive += 1\n",
    "            else:\n",
    "                false_negative += 1\n",
    "\n",
    "accuracy = (true_positive + true_negative)/(true_positive + false_positive + true_negative + false_positive)\n",
    "precision = true_positive/(true_positive + false_positive)\n",
    "recall = true_positive/(true_positive + false_negative)\n",
    "f1_score = 2*(recall * precision)/(recall+precision)\n",
    "print(\"Accuracy: \", accuracy)\n",
    "print(\"Precision: \", precision)\n",
    "print(\"Recall: \", recall)\n",
    "print(\"F1 Score: \", f1_score)"
   ]
  },
  {
   "cell_type": "markdown",
   "metadata": {
    "ExecuteTime": {
     "end_time": "2020-04-16T17:09:39.001984Z",
     "start_time": "2020-04-16T17:09:38.989950Z"
    }
   },
   "source": [
    "# 5. Bibliography\n",
    "\n",
    "K-Means Clustering. Daniel Furlay. [Avaiablae at](https://towardsdatascience.com/k-means-clustering-8e1e64c1561c) Last visited: 16/04/2020"
   ]
  },
  {
   "cell_type": "code",
   "execution_count": null,
   "metadata": {},
   "outputs": [],
   "source": []
  }
 ],
 "metadata": {
  "kernelspec": {
   "display_name": "Python 3",
   "language": "python",
   "name": "python3"
  },
  "language_info": {
   "codemirror_mode": {
    "name": "ipython",
    "version": 3
   },
   "file_extension": ".py",
   "mimetype": "text/x-python",
   "name": "python",
   "nbconvert_exporter": "python",
   "pygments_lexer": "ipython3",
   "version": "3.6.10"
  },
  "varInspector": {
   "cols": {
    "lenName": 16,
    "lenType": 16,
    "lenVar": 40
   },
   "kernels_config": {
    "python": {
     "delete_cmd_postfix": "",
     "delete_cmd_prefix": "del ",
     "library": "var_list.py",
     "varRefreshCmd": "print(var_dic_list())"
    },
    "r": {
     "delete_cmd_postfix": ") ",
     "delete_cmd_prefix": "rm(",
     "library": "var_list.r",
     "varRefreshCmd": "cat(var_dic_list()) "
    }
   },
   "types_to_exclude": [
    "module",
    "function",
    "builtin_function_or_method",
    "instance",
    "_Feature"
   ],
   "window_display": false
  }
 },
 "nbformat": 4,
 "nbformat_minor": 4
}
